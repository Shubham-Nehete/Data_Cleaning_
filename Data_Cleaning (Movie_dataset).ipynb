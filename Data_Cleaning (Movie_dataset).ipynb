{
 "cells": [
  {
   "cell_type": "markdown",
   "metadata": {},
   "source": [
    "# **Disclaimer -** \n",
    "                Here, only general data cleaning is being done, like there is no problem statement defined. The data in some columns are either manipulated or the entire feature is dropped. The dropped feature might be have some importance w.r.t to the specific problem statement."
   ]
  },
  {
   "cell_type": "markdown",
   "metadata": {},
   "source": [
    "## Importing Libraries"
   ]
  },
  {
   "cell_type": "code",
   "execution_count": 1,
   "metadata": {
    "id": "6mAL4_oKnqe2"
   },
   "outputs": [],
   "source": [
    "import pandas as pd\n",
    "import numpy as np"
   ]
  },
  {
   "cell_type": "markdown",
   "metadata": {},
   "source": [
    "## Importing Dataset"
   ]
  },
  {
   "cell_type": "code",
   "execution_count": 2,
   "metadata": {
    "colab": {
     "base_uri": "https://localhost:8080/"
    },
    "id": "Br9mzm2Dnxsx",
    "outputId": "7370458f-b30f-4b7b-b5fc-da4e9158a746"
   },
   "outputs": [
    {
     "name": "stderr",
     "output_type": "stream",
     "text": [
      "c:\\users\\hp\\appdata\\local\\programs\\python\\python39\\lib\\site-packages\\IPython\\core\\interactiveshell.py:3165: DtypeWarning: Columns (10) have mixed types.Specify dtype option on import or set low_memory=False.\n",
      "  has_raised = await self.run_ast_nodes(code_ast.body, cell_name,\n"
     ]
    }
   ],
   "source": [
    "data = pd.read_csv(\"movies_metadata.csv\")"
   ]
  },
  {
   "cell_type": "code",
   "execution_count": 3,
   "metadata": {
    "colab": {
     "base_uri": "https://localhost:8080/"
    },
    "id": "T_ImB2GuMohZ",
    "outputId": "bf1ae222-e7cd-4f2e-f907-d762907cc3df"
   },
   "outputs": [
    {
     "data": {
      "text/plain": [
       "(45466, 24)"
      ]
     },
     "execution_count": 3,
     "metadata": {},
     "output_type": "execute_result"
    }
   ],
   "source": [
    "data.shape"
   ]
  },
  {
   "cell_type": "code",
   "execution_count": 4,
   "metadata": {
    "colab": {
     "base_uri": "https://localhost:8080/",
     "height": 677
    },
    "id": "Pv--rEAaS1Sj",
    "outputId": "883f61fd-6f51-4497-9ad9-8cb38cebd4de"
   },
   "outputs": [
    {
     "data": {
      "text/html": [
       "<div>\n",
       "<style scoped>\n",
       "    .dataframe tbody tr th:only-of-type {\n",
       "        vertical-align: middle;\n",
       "    }\n",
       "\n",
       "    .dataframe tbody tr th {\n",
       "        vertical-align: top;\n",
       "    }\n",
       "\n",
       "    .dataframe thead th {\n",
       "        text-align: right;\n",
       "    }\n",
       "</style>\n",
       "<table border=\"1\" class=\"dataframe\">\n",
       "  <thead>\n",
       "    <tr style=\"text-align: right;\">\n",
       "      <th></th>\n",
       "      <th>adult</th>\n",
       "      <th>belongs_to_collection</th>\n",
       "      <th>budget</th>\n",
       "      <th>genres</th>\n",
       "      <th>homepage</th>\n",
       "      <th>id</th>\n",
       "      <th>imdb_id</th>\n",
       "      <th>original_language</th>\n",
       "      <th>original_title</th>\n",
       "      <th>overview</th>\n",
       "      <th>...</th>\n",
       "      <th>release_date</th>\n",
       "      <th>revenue</th>\n",
       "      <th>runtime</th>\n",
       "      <th>spoken_languages</th>\n",
       "      <th>status</th>\n",
       "      <th>tagline</th>\n",
       "      <th>title</th>\n",
       "      <th>video</th>\n",
       "      <th>vote_average</th>\n",
       "      <th>vote_count</th>\n",
       "    </tr>\n",
       "  </thead>\n",
       "  <tbody>\n",
       "    <tr>\n",
       "      <th>0</th>\n",
       "      <td>False</td>\n",
       "      <td>{'id': 10194, 'name': 'Toy Story Collection', ...</td>\n",
       "      <td>30000000</td>\n",
       "      <td>[{'id': 16, 'name': 'Animation'}, {'id': 35, '...</td>\n",
       "      <td>http://toystory.disney.com/toy-story</td>\n",
       "      <td>862</td>\n",
       "      <td>tt0114709</td>\n",
       "      <td>en</td>\n",
       "      <td>Toy Story</td>\n",
       "      <td>Led by Woody, Andy's toys live happily in his ...</td>\n",
       "      <td>...</td>\n",
       "      <td>1995-10-30</td>\n",
       "      <td>373554033.0</td>\n",
       "      <td>81.0</td>\n",
       "      <td>[{'iso_639_1': 'en', 'name': 'English'}]</td>\n",
       "      <td>Released</td>\n",
       "      <td>NaN</td>\n",
       "      <td>Toy Story</td>\n",
       "      <td>False</td>\n",
       "      <td>7.7</td>\n",
       "      <td>5415.0</td>\n",
       "    </tr>\n",
       "    <tr>\n",
       "      <th>1</th>\n",
       "      <td>False</td>\n",
       "      <td>NaN</td>\n",
       "      <td>65000000</td>\n",
       "      <td>[{'id': 12, 'name': 'Adventure'}, {'id': 14, '...</td>\n",
       "      <td>NaN</td>\n",
       "      <td>8844</td>\n",
       "      <td>tt0113497</td>\n",
       "      <td>en</td>\n",
       "      <td>Jumanji</td>\n",
       "      <td>When siblings Judy and Peter discover an encha...</td>\n",
       "      <td>...</td>\n",
       "      <td>1995-12-15</td>\n",
       "      <td>262797249.0</td>\n",
       "      <td>104.0</td>\n",
       "      <td>[{'iso_639_1': 'en', 'name': 'English'}, {'iso...</td>\n",
       "      <td>Released</td>\n",
       "      <td>Roll the dice and unleash the excitement!</td>\n",
       "      <td>Jumanji</td>\n",
       "      <td>False</td>\n",
       "      <td>6.9</td>\n",
       "      <td>2413.0</td>\n",
       "    </tr>\n",
       "    <tr>\n",
       "      <th>2</th>\n",
       "      <td>False</td>\n",
       "      <td>{'id': 119050, 'name': 'Grumpy Old Men Collect...</td>\n",
       "      <td>0</td>\n",
       "      <td>[{'id': 10749, 'name': 'Romance'}, {'id': 35, ...</td>\n",
       "      <td>NaN</td>\n",
       "      <td>15602</td>\n",
       "      <td>tt0113228</td>\n",
       "      <td>en</td>\n",
       "      <td>Grumpier Old Men</td>\n",
       "      <td>A family wedding reignites the ancient feud be...</td>\n",
       "      <td>...</td>\n",
       "      <td>1995-12-22</td>\n",
       "      <td>0.0</td>\n",
       "      <td>101.0</td>\n",
       "      <td>[{'iso_639_1': 'en', 'name': 'English'}]</td>\n",
       "      <td>Released</td>\n",
       "      <td>Still Yelling. Still Fighting. Still Ready for...</td>\n",
       "      <td>Grumpier Old Men</td>\n",
       "      <td>False</td>\n",
       "      <td>6.5</td>\n",
       "      <td>92.0</td>\n",
       "    </tr>\n",
       "    <tr>\n",
       "      <th>3</th>\n",
       "      <td>False</td>\n",
       "      <td>NaN</td>\n",
       "      <td>16000000</td>\n",
       "      <td>[{'id': 35, 'name': 'Comedy'}, {'id': 18, 'nam...</td>\n",
       "      <td>NaN</td>\n",
       "      <td>31357</td>\n",
       "      <td>tt0114885</td>\n",
       "      <td>en</td>\n",
       "      <td>Waiting to Exhale</td>\n",
       "      <td>Cheated on, mistreated and stepped on, the wom...</td>\n",
       "      <td>...</td>\n",
       "      <td>1995-12-22</td>\n",
       "      <td>81452156.0</td>\n",
       "      <td>127.0</td>\n",
       "      <td>[{'iso_639_1': 'en', 'name': 'English'}]</td>\n",
       "      <td>Released</td>\n",
       "      <td>Friends are the people who let you be yourself...</td>\n",
       "      <td>Waiting to Exhale</td>\n",
       "      <td>False</td>\n",
       "      <td>6.1</td>\n",
       "      <td>34.0</td>\n",
       "    </tr>\n",
       "    <tr>\n",
       "      <th>4</th>\n",
       "      <td>False</td>\n",
       "      <td>{'id': 96871, 'name': 'Father of the Bride Col...</td>\n",
       "      <td>0</td>\n",
       "      <td>[{'id': 35, 'name': 'Comedy'}]</td>\n",
       "      <td>NaN</td>\n",
       "      <td>11862</td>\n",
       "      <td>tt0113041</td>\n",
       "      <td>en</td>\n",
       "      <td>Father of the Bride Part II</td>\n",
       "      <td>Just when George Banks has recovered from his ...</td>\n",
       "      <td>...</td>\n",
       "      <td>1995-02-10</td>\n",
       "      <td>76578911.0</td>\n",
       "      <td>106.0</td>\n",
       "      <td>[{'iso_639_1': 'en', 'name': 'English'}]</td>\n",
       "      <td>Released</td>\n",
       "      <td>Just When His World Is Back To Normal... He's ...</td>\n",
       "      <td>Father of the Bride Part II</td>\n",
       "      <td>False</td>\n",
       "      <td>5.7</td>\n",
       "      <td>173.0</td>\n",
       "    </tr>\n",
       "  </tbody>\n",
       "</table>\n",
       "<p>5 rows × 24 columns</p>\n",
       "</div>"
      ],
      "text/plain": [
       "   adult                              belongs_to_collection    budget  \\\n",
       "0  False  {'id': 10194, 'name': 'Toy Story Collection', ...  30000000   \n",
       "1  False                                                NaN  65000000   \n",
       "2  False  {'id': 119050, 'name': 'Grumpy Old Men Collect...         0   \n",
       "3  False                                                NaN  16000000   \n",
       "4  False  {'id': 96871, 'name': 'Father of the Bride Col...         0   \n",
       "\n",
       "                                              genres  \\\n",
       "0  [{'id': 16, 'name': 'Animation'}, {'id': 35, '...   \n",
       "1  [{'id': 12, 'name': 'Adventure'}, {'id': 14, '...   \n",
       "2  [{'id': 10749, 'name': 'Romance'}, {'id': 35, ...   \n",
       "3  [{'id': 35, 'name': 'Comedy'}, {'id': 18, 'nam...   \n",
       "4                     [{'id': 35, 'name': 'Comedy'}]   \n",
       "\n",
       "                               homepage     id    imdb_id original_language  \\\n",
       "0  http://toystory.disney.com/toy-story    862  tt0114709                en   \n",
       "1                                   NaN   8844  tt0113497                en   \n",
       "2                                   NaN  15602  tt0113228                en   \n",
       "3                                   NaN  31357  tt0114885                en   \n",
       "4                                   NaN  11862  tt0113041                en   \n",
       "\n",
       "                original_title  \\\n",
       "0                    Toy Story   \n",
       "1                      Jumanji   \n",
       "2             Grumpier Old Men   \n",
       "3            Waiting to Exhale   \n",
       "4  Father of the Bride Part II   \n",
       "\n",
       "                                            overview  ... release_date  \\\n",
       "0  Led by Woody, Andy's toys live happily in his ...  ...   1995-10-30   \n",
       "1  When siblings Judy and Peter discover an encha...  ...   1995-12-15   \n",
       "2  A family wedding reignites the ancient feud be...  ...   1995-12-22   \n",
       "3  Cheated on, mistreated and stepped on, the wom...  ...   1995-12-22   \n",
       "4  Just when George Banks has recovered from his ...  ...   1995-02-10   \n",
       "\n",
       "       revenue runtime                                   spoken_languages  \\\n",
       "0  373554033.0    81.0           [{'iso_639_1': 'en', 'name': 'English'}]   \n",
       "1  262797249.0   104.0  [{'iso_639_1': 'en', 'name': 'English'}, {'iso...   \n",
       "2          0.0   101.0           [{'iso_639_1': 'en', 'name': 'English'}]   \n",
       "3   81452156.0   127.0           [{'iso_639_1': 'en', 'name': 'English'}]   \n",
       "4   76578911.0   106.0           [{'iso_639_1': 'en', 'name': 'English'}]   \n",
       "\n",
       "     status                                            tagline  \\\n",
       "0  Released                                                NaN   \n",
       "1  Released          Roll the dice and unleash the excitement!   \n",
       "2  Released  Still Yelling. Still Fighting. Still Ready for...   \n",
       "3  Released  Friends are the people who let you be yourself...   \n",
       "4  Released  Just When His World Is Back To Normal... He's ...   \n",
       "\n",
       "                         title  video vote_average vote_count  \n",
       "0                    Toy Story  False          7.7     5415.0  \n",
       "1                      Jumanji  False          6.9     2413.0  \n",
       "2             Grumpier Old Men  False          6.5       92.0  \n",
       "3            Waiting to Exhale  False          6.1       34.0  \n",
       "4  Father of the Bride Part II  False          5.7      173.0  \n",
       "\n",
       "[5 rows x 24 columns]"
      ]
     },
     "execution_count": 4,
     "metadata": {},
     "output_type": "execute_result"
    }
   ],
   "source": [
    "data.head()"
   ]
  },
  {
   "cell_type": "code",
   "execution_count": 5,
   "metadata": {},
   "outputs": [
    {
     "name": "stdout",
     "output_type": "stream",
     "text": [
      "<class 'pandas.core.frame.DataFrame'>\n",
      "RangeIndex: 45466 entries, 0 to 45465\n",
      "Data columns (total 24 columns):\n",
      " #   Column                 Non-Null Count  Dtype  \n",
      "---  ------                 --------------  -----  \n",
      " 0   adult                  45466 non-null  object \n",
      " 1   belongs_to_collection  4494 non-null   object \n",
      " 2   budget                 45466 non-null  object \n",
      " 3   genres                 45466 non-null  object \n",
      " 4   homepage               7782 non-null   object \n",
      " 5   id                     45466 non-null  object \n",
      " 6   imdb_id                45449 non-null  object \n",
      " 7   original_language      45455 non-null  object \n",
      " 8   original_title         45466 non-null  object \n",
      " 9   overview               44512 non-null  object \n",
      " 10  popularity             45461 non-null  object \n",
      " 11  poster_path            45080 non-null  object \n",
      " 12  production_companies   45463 non-null  object \n",
      " 13  production_countries   45463 non-null  object \n",
      " 14  release_date           45379 non-null  object \n",
      " 15  revenue                45460 non-null  float64\n",
      " 16  runtime                45203 non-null  float64\n",
      " 17  spoken_languages       45460 non-null  object \n",
      " 18  status                 45379 non-null  object \n",
      " 19  tagline                20412 non-null  object \n",
      " 20  title                  45460 non-null  object \n",
      " 21  video                  45460 non-null  object \n",
      " 22  vote_average           45460 non-null  float64\n",
      " 23  vote_count             45460 non-null  float64\n",
      "dtypes: float64(4), object(20)\n",
      "memory usage: 8.3+ MB\n"
     ]
    }
   ],
   "source": [
    "data.info()"
   ]
  },
  {
   "cell_type": "code",
   "execution_count": 6,
   "metadata": {
    "colab": {
     "base_uri": "https://localhost:8080/"
    },
    "id": "EfT35A5cbzBe",
    "outputId": "bc949778-97eb-43cf-dc29-9a11e4d77833"
   },
   "outputs": [
    {
     "data": {
      "text/plain": [
       "(45466, 24)"
      ]
     },
     "execution_count": 6,
     "metadata": {},
     "output_type": "execute_result"
    }
   ],
   "source": [
    "data.shape"
   ]
  },
  {
   "cell_type": "code",
   "execution_count": 7,
   "metadata": {
    "colab": {
     "base_uri": "https://localhost:8080/"
    },
    "id": "xx2ybVr8xU0C",
    "outputId": "aee808a3-eb39-4246-ccc5-9693bbe32bc9"
   },
   "outputs": [
    {
     "data": {
      "text/plain": [
       "Index(['adult', 'belongs_to_collection', 'budget', 'genres', 'homepage', 'id',\n",
       "       'imdb_id', 'original_language', 'original_title', 'overview',\n",
       "       'popularity', 'poster_path', 'production_companies',\n",
       "       'production_countries', 'release_date', 'revenue', 'runtime',\n",
       "       'spoken_languages', 'status', 'tagline', 'title', 'video',\n",
       "       'vote_average', 'vote_count'],\n",
       "      dtype='object')"
      ]
     },
     "execution_count": 7,
     "metadata": {},
     "output_type": "execute_result"
    }
   ],
   "source": [
    "data.columns"
   ]
  },
  {
   "cell_type": "markdown",
   "metadata": {
    "id": "g-BbK4V6SygG"
   },
   "source": [
    "## Adult"
   ]
  },
  {
   "cell_type": "code",
   "execution_count": 8,
   "metadata": {
    "colab": {
     "base_uri": "https://localhost:8080/"
    },
    "id": "-NuFB6DNSx2y",
    "outputId": "7cf99bfc-de0a-4d72-f181-afa25f88ce52"
   },
   "outputs": [
    {
     "data": {
      "text/plain": [
       "array(['False', 'True'], dtype=object)"
      ]
     },
     "execution_count": 8,
     "metadata": {},
     "output_type": "execute_result"
    }
   ],
   "source": [
    "data.adult.unique()\n",
    "data.adult.value_counts()\n",
    "\n",
    "data = data.loc[data.adult.isin(['False','True']),:] #explicitly setting the data where either True or Flase is present\n",
    "data.adult.unique()"
   ]
  },
  {
   "cell_type": "markdown",
   "metadata": {
    "id": "NZtjXpbMS6Sc"
   },
   "source": [
    "# Belongs to Collection"
   ]
  },
  {
   "cell_type": "code",
   "execution_count": 9,
   "metadata": {
    "colab": {
     "base_uri": "https://localhost:8080/",
     "height": 53
    },
    "id": "bpdw0e2ryVTZ",
    "outputId": "df61ff00-0e26-4bfc-9074-38151fded37f"
   },
   "outputs": [
    {
     "data": {
      "text/plain": [
       "\"{'id': 10194, 'name': 'Toy Story Collection', 'poster_path': '/7G9915LfUQ2lVfwMEEhDsn3kT4B.jpg', 'backdrop_path': '/9FBwqcd9IRruEDUrTdcaafOMKUq.jpg'}\""
      ]
     },
     "execution_count": 9,
     "metadata": {},
     "output_type": "execute_result"
    }
   ],
   "source": [
    "data.belongs_to_collection.values[0]"
   ]
  },
  {
   "cell_type": "code",
   "execution_count": 10,
   "metadata": {
    "colab": {
     "base_uri": "https://localhost:8080/"
    },
    "id": "CBpxlabszvea",
    "outputId": "433cfd10-6062-4054-8be2-106977a70933"
   },
   "outputs": [
    {
     "data": {
      "text/plain": [
       "10194"
      ]
     },
     "execution_count": 10,
     "metadata": {},
     "output_type": "execute_result"
    }
   ],
   "source": [
    "import ast\n",
    "ast.literal_eval(data.belongs_to_collection.values[0])['id']"
   ]
  },
  {
   "cell_type": "code",
   "execution_count": 11,
   "metadata": {
    "colab": {
     "base_uri": "https://localhost:8080/"
    },
    "id": "Oh_8a1FIz57Z",
    "outputId": "c7d06024-7c74-41e2-9ee7-4d3ba4a010b3"
   },
   "outputs": [
    {
     "data": {
      "text/plain": [
       "False"
      ]
     },
     "execution_count": 11,
     "metadata": {},
     "output_type": "execute_result"
    }
   ],
   "source": [
    "import numpy as np\n",
    "np.nan == np.nan"
   ]
  },
  {
   "cell_type": "markdown",
   "metadata": {
    "id": "5K4sfAPWzdBu"
   },
   "source": [
    "all elements : (check if that value is ) str -> dict -> id. <br>\n",
    "here, ast library is used to converting the string to dictionary.\n"
   ]
  },
  {
   "cell_type": "code",
   "execution_count": 12,
   "metadata": {
    "id": "Rmja5uF4S-MU"
   },
   "outputs": [],
   "source": [
    "import ast\n",
    "\n",
    "collectionIds = []\n",
    "for i in data['belongs_to_collection'].values:\n",
    "    if i != i:\n",
    "      collectionIds.append(-1)  # if there is NaN values, it will be replaced by -1\n",
    "      continue\n",
    "    collectionIds.append(ast.literal_eval(i)['id'])\n",
    "\n",
    "data['collectionId'] = collectionIds\n",
    "data = data.drop(columns = ['belongs_to_collection'])"
   ]
  },
  {
   "cell_type": "code",
   "execution_count": 13,
   "metadata": {
    "colab": {
     "base_uri": "https://localhost:8080/",
     "height": 1000
    },
    "id": "daGTe1Ws0P71",
    "outputId": "899ff1d1-6d47-4961-d6b9-678fa2490468"
   },
   "outputs": [
    {
     "data": {
      "text/html": [
       "<div>\n",
       "<style scoped>\n",
       "    .dataframe tbody tr th:only-of-type {\n",
       "        vertical-align: middle;\n",
       "    }\n",
       "\n",
       "    .dataframe tbody tr th {\n",
       "        vertical-align: top;\n",
       "    }\n",
       "\n",
       "    .dataframe thead th {\n",
       "        text-align: right;\n",
       "    }\n",
       "</style>\n",
       "<table border=\"1\" class=\"dataframe\">\n",
       "  <thead>\n",
       "    <tr style=\"text-align: right;\">\n",
       "      <th></th>\n",
       "      <th>adult</th>\n",
       "      <th>budget</th>\n",
       "      <th>genres</th>\n",
       "      <th>homepage</th>\n",
       "      <th>id</th>\n",
       "      <th>imdb_id</th>\n",
       "      <th>original_language</th>\n",
       "      <th>original_title</th>\n",
       "      <th>overview</th>\n",
       "      <th>popularity</th>\n",
       "      <th>...</th>\n",
       "      <th>revenue</th>\n",
       "      <th>runtime</th>\n",
       "      <th>spoken_languages</th>\n",
       "      <th>status</th>\n",
       "      <th>tagline</th>\n",
       "      <th>title</th>\n",
       "      <th>video</th>\n",
       "      <th>vote_average</th>\n",
       "      <th>vote_count</th>\n",
       "      <th>collectionId</th>\n",
       "    </tr>\n",
       "  </thead>\n",
       "  <tbody>\n",
       "    <tr>\n",
       "      <th>0</th>\n",
       "      <td>False</td>\n",
       "      <td>30000000</td>\n",
       "      <td>[{'id': 16, 'name': 'Animation'}, {'id': 35, '...</td>\n",
       "      <td>http://toystory.disney.com/toy-story</td>\n",
       "      <td>862</td>\n",
       "      <td>tt0114709</td>\n",
       "      <td>en</td>\n",
       "      <td>Toy Story</td>\n",
       "      <td>Led by Woody, Andy's toys live happily in his ...</td>\n",
       "      <td>21.946943</td>\n",
       "      <td>...</td>\n",
       "      <td>373554033.0</td>\n",
       "      <td>81.0</td>\n",
       "      <td>[{'iso_639_1': 'en', 'name': 'English'}]</td>\n",
       "      <td>Released</td>\n",
       "      <td>NaN</td>\n",
       "      <td>Toy Story</td>\n",
       "      <td>False</td>\n",
       "      <td>7.7</td>\n",
       "      <td>5415.0</td>\n",
       "      <td>10194</td>\n",
       "    </tr>\n",
       "    <tr>\n",
       "      <th>1</th>\n",
       "      <td>False</td>\n",
       "      <td>65000000</td>\n",
       "      <td>[{'id': 12, 'name': 'Adventure'}, {'id': 14, '...</td>\n",
       "      <td>NaN</td>\n",
       "      <td>8844</td>\n",
       "      <td>tt0113497</td>\n",
       "      <td>en</td>\n",
       "      <td>Jumanji</td>\n",
       "      <td>When siblings Judy and Peter discover an encha...</td>\n",
       "      <td>17.015539</td>\n",
       "      <td>...</td>\n",
       "      <td>262797249.0</td>\n",
       "      <td>104.0</td>\n",
       "      <td>[{'iso_639_1': 'en', 'name': 'English'}, {'iso...</td>\n",
       "      <td>Released</td>\n",
       "      <td>Roll the dice and unleash the excitement!</td>\n",
       "      <td>Jumanji</td>\n",
       "      <td>False</td>\n",
       "      <td>6.9</td>\n",
       "      <td>2413.0</td>\n",
       "      <td>-1</td>\n",
       "    </tr>\n",
       "    <tr>\n",
       "      <th>2</th>\n",
       "      <td>False</td>\n",
       "      <td>0</td>\n",
       "      <td>[{'id': 10749, 'name': 'Romance'}, {'id': 35, ...</td>\n",
       "      <td>NaN</td>\n",
       "      <td>15602</td>\n",
       "      <td>tt0113228</td>\n",
       "      <td>en</td>\n",
       "      <td>Grumpier Old Men</td>\n",
       "      <td>A family wedding reignites the ancient feud be...</td>\n",
       "      <td>11.7129</td>\n",
       "      <td>...</td>\n",
       "      <td>0.0</td>\n",
       "      <td>101.0</td>\n",
       "      <td>[{'iso_639_1': 'en', 'name': 'English'}]</td>\n",
       "      <td>Released</td>\n",
       "      <td>Still Yelling. Still Fighting. Still Ready for...</td>\n",
       "      <td>Grumpier Old Men</td>\n",
       "      <td>False</td>\n",
       "      <td>6.5</td>\n",
       "      <td>92.0</td>\n",
       "      <td>119050</td>\n",
       "    </tr>\n",
       "    <tr>\n",
       "      <th>3</th>\n",
       "      <td>False</td>\n",
       "      <td>16000000</td>\n",
       "      <td>[{'id': 35, 'name': 'Comedy'}, {'id': 18, 'nam...</td>\n",
       "      <td>NaN</td>\n",
       "      <td>31357</td>\n",
       "      <td>tt0114885</td>\n",
       "      <td>en</td>\n",
       "      <td>Waiting to Exhale</td>\n",
       "      <td>Cheated on, mistreated and stepped on, the wom...</td>\n",
       "      <td>3.859495</td>\n",
       "      <td>...</td>\n",
       "      <td>81452156.0</td>\n",
       "      <td>127.0</td>\n",
       "      <td>[{'iso_639_1': 'en', 'name': 'English'}]</td>\n",
       "      <td>Released</td>\n",
       "      <td>Friends are the people who let you be yourself...</td>\n",
       "      <td>Waiting to Exhale</td>\n",
       "      <td>False</td>\n",
       "      <td>6.1</td>\n",
       "      <td>34.0</td>\n",
       "      <td>-1</td>\n",
       "    </tr>\n",
       "    <tr>\n",
       "      <th>4</th>\n",
       "      <td>False</td>\n",
       "      <td>0</td>\n",
       "      <td>[{'id': 35, 'name': 'Comedy'}]</td>\n",
       "      <td>NaN</td>\n",
       "      <td>11862</td>\n",
       "      <td>tt0113041</td>\n",
       "      <td>en</td>\n",
       "      <td>Father of the Bride Part II</td>\n",
       "      <td>Just when George Banks has recovered from his ...</td>\n",
       "      <td>8.387519</td>\n",
       "      <td>...</td>\n",
       "      <td>76578911.0</td>\n",
       "      <td>106.0</td>\n",
       "      <td>[{'iso_639_1': 'en', 'name': 'English'}]</td>\n",
       "      <td>Released</td>\n",
       "      <td>Just When His World Is Back To Normal... He's ...</td>\n",
       "      <td>Father of the Bride Part II</td>\n",
       "      <td>False</td>\n",
       "      <td>5.7</td>\n",
       "      <td>173.0</td>\n",
       "      <td>96871</td>\n",
       "    </tr>\n",
       "    <tr>\n",
       "      <th>...</th>\n",
       "      <td>...</td>\n",
       "      <td>...</td>\n",
       "      <td>...</td>\n",
       "      <td>...</td>\n",
       "      <td>...</td>\n",
       "      <td>...</td>\n",
       "      <td>...</td>\n",
       "      <td>...</td>\n",
       "      <td>...</td>\n",
       "      <td>...</td>\n",
       "      <td>...</td>\n",
       "      <td>...</td>\n",
       "      <td>...</td>\n",
       "      <td>...</td>\n",
       "      <td>...</td>\n",
       "      <td>...</td>\n",
       "      <td>...</td>\n",
       "      <td>...</td>\n",
       "      <td>...</td>\n",
       "      <td>...</td>\n",
       "      <td>...</td>\n",
       "    </tr>\n",
       "    <tr>\n",
       "      <th>45461</th>\n",
       "      <td>False</td>\n",
       "      <td>0</td>\n",
       "      <td>[{'id': 18, 'name': 'Drama'}, {'id': 10751, 'n...</td>\n",
       "      <td>http://www.imdb.com/title/tt6209470/</td>\n",
       "      <td>439050</td>\n",
       "      <td>tt6209470</td>\n",
       "      <td>fa</td>\n",
       "      <td>رگ خواب</td>\n",
       "      <td>Rising and falling between a man and woman.</td>\n",
       "      <td>0.072051</td>\n",
       "      <td>...</td>\n",
       "      <td>0.0</td>\n",
       "      <td>90.0</td>\n",
       "      <td>[{'iso_639_1': 'fa', 'name': 'فارسی'}]</td>\n",
       "      <td>Released</td>\n",
       "      <td>Rising and falling between a man and woman</td>\n",
       "      <td>Subdue</td>\n",
       "      <td>False</td>\n",
       "      <td>4.0</td>\n",
       "      <td>1.0</td>\n",
       "      <td>-1</td>\n",
       "    </tr>\n",
       "    <tr>\n",
       "      <th>45462</th>\n",
       "      <td>False</td>\n",
       "      <td>0</td>\n",
       "      <td>[{'id': 18, 'name': 'Drama'}]</td>\n",
       "      <td>NaN</td>\n",
       "      <td>111109</td>\n",
       "      <td>tt2028550</td>\n",
       "      <td>tl</td>\n",
       "      <td>Siglo ng Pagluluwal</td>\n",
       "      <td>An artist struggles to finish his work while a...</td>\n",
       "      <td>0.178241</td>\n",
       "      <td>...</td>\n",
       "      <td>0.0</td>\n",
       "      <td>360.0</td>\n",
       "      <td>[{'iso_639_1': 'tl', 'name': ''}]</td>\n",
       "      <td>Released</td>\n",
       "      <td>NaN</td>\n",
       "      <td>Century of Birthing</td>\n",
       "      <td>False</td>\n",
       "      <td>9.0</td>\n",
       "      <td>3.0</td>\n",
       "      <td>-1</td>\n",
       "    </tr>\n",
       "    <tr>\n",
       "      <th>45463</th>\n",
       "      <td>False</td>\n",
       "      <td>0</td>\n",
       "      <td>[{'id': 28, 'name': 'Action'}, {'id': 18, 'nam...</td>\n",
       "      <td>NaN</td>\n",
       "      <td>67758</td>\n",
       "      <td>tt0303758</td>\n",
       "      <td>en</td>\n",
       "      <td>Betrayal</td>\n",
       "      <td>When one of her hits goes wrong, a professiona...</td>\n",
       "      <td>0.903007</td>\n",
       "      <td>...</td>\n",
       "      <td>0.0</td>\n",
       "      <td>90.0</td>\n",
       "      <td>[{'iso_639_1': 'en', 'name': 'English'}]</td>\n",
       "      <td>Released</td>\n",
       "      <td>A deadly game of wits.</td>\n",
       "      <td>Betrayal</td>\n",
       "      <td>False</td>\n",
       "      <td>3.8</td>\n",
       "      <td>6.0</td>\n",
       "      <td>-1</td>\n",
       "    </tr>\n",
       "    <tr>\n",
       "      <th>45464</th>\n",
       "      <td>False</td>\n",
       "      <td>0</td>\n",
       "      <td>[]</td>\n",
       "      <td>NaN</td>\n",
       "      <td>227506</td>\n",
       "      <td>tt0008536</td>\n",
       "      <td>en</td>\n",
       "      <td>Satana likuyushchiy</td>\n",
       "      <td>In a small town live two brothers, one a minis...</td>\n",
       "      <td>0.003503</td>\n",
       "      <td>...</td>\n",
       "      <td>0.0</td>\n",
       "      <td>87.0</td>\n",
       "      <td>[]</td>\n",
       "      <td>Released</td>\n",
       "      <td>NaN</td>\n",
       "      <td>Satan Triumphant</td>\n",
       "      <td>False</td>\n",
       "      <td>0.0</td>\n",
       "      <td>0.0</td>\n",
       "      <td>-1</td>\n",
       "    </tr>\n",
       "    <tr>\n",
       "      <th>45465</th>\n",
       "      <td>False</td>\n",
       "      <td>0</td>\n",
       "      <td>[]</td>\n",
       "      <td>NaN</td>\n",
       "      <td>461257</td>\n",
       "      <td>tt6980792</td>\n",
       "      <td>en</td>\n",
       "      <td>Queerama</td>\n",
       "      <td>50 years after decriminalisation of homosexual...</td>\n",
       "      <td>0.163015</td>\n",
       "      <td>...</td>\n",
       "      <td>0.0</td>\n",
       "      <td>75.0</td>\n",
       "      <td>[{'iso_639_1': 'en', 'name': 'English'}]</td>\n",
       "      <td>Released</td>\n",
       "      <td>NaN</td>\n",
       "      <td>Queerama</td>\n",
       "      <td>False</td>\n",
       "      <td>0.0</td>\n",
       "      <td>0.0</td>\n",
       "      <td>-1</td>\n",
       "    </tr>\n",
       "  </tbody>\n",
       "</table>\n",
       "<p>45463 rows × 24 columns</p>\n",
       "</div>"
      ],
      "text/plain": [
       "       adult    budget                                             genres  \\\n",
       "0      False  30000000  [{'id': 16, 'name': 'Animation'}, {'id': 35, '...   \n",
       "1      False  65000000  [{'id': 12, 'name': 'Adventure'}, {'id': 14, '...   \n",
       "2      False         0  [{'id': 10749, 'name': 'Romance'}, {'id': 35, ...   \n",
       "3      False  16000000  [{'id': 35, 'name': 'Comedy'}, {'id': 18, 'nam...   \n",
       "4      False         0                     [{'id': 35, 'name': 'Comedy'}]   \n",
       "...      ...       ...                                                ...   \n",
       "45461  False         0  [{'id': 18, 'name': 'Drama'}, {'id': 10751, 'n...   \n",
       "45462  False         0                      [{'id': 18, 'name': 'Drama'}]   \n",
       "45463  False         0  [{'id': 28, 'name': 'Action'}, {'id': 18, 'nam...   \n",
       "45464  False         0                                                 []   \n",
       "45465  False         0                                                 []   \n",
       "\n",
       "                                   homepage      id    imdb_id  \\\n",
       "0      http://toystory.disney.com/toy-story     862  tt0114709   \n",
       "1                                       NaN    8844  tt0113497   \n",
       "2                                       NaN   15602  tt0113228   \n",
       "3                                       NaN   31357  tt0114885   \n",
       "4                                       NaN   11862  tt0113041   \n",
       "...                                     ...     ...        ...   \n",
       "45461  http://www.imdb.com/title/tt6209470/  439050  tt6209470   \n",
       "45462                                   NaN  111109  tt2028550   \n",
       "45463                                   NaN   67758  tt0303758   \n",
       "45464                                   NaN  227506  tt0008536   \n",
       "45465                                   NaN  461257  tt6980792   \n",
       "\n",
       "      original_language               original_title  \\\n",
       "0                    en                    Toy Story   \n",
       "1                    en                      Jumanji   \n",
       "2                    en             Grumpier Old Men   \n",
       "3                    en            Waiting to Exhale   \n",
       "4                    en  Father of the Bride Part II   \n",
       "...                 ...                          ...   \n",
       "45461                fa                      رگ خواب   \n",
       "45462                tl          Siglo ng Pagluluwal   \n",
       "45463                en                     Betrayal   \n",
       "45464                en          Satana likuyushchiy   \n",
       "45465                en                     Queerama   \n",
       "\n",
       "                                                overview popularity  ...  \\\n",
       "0      Led by Woody, Andy's toys live happily in his ...  21.946943  ...   \n",
       "1      When siblings Judy and Peter discover an encha...  17.015539  ...   \n",
       "2      A family wedding reignites the ancient feud be...    11.7129  ...   \n",
       "3      Cheated on, mistreated and stepped on, the wom...   3.859495  ...   \n",
       "4      Just when George Banks has recovered from his ...   8.387519  ...   \n",
       "...                                                  ...        ...  ...   \n",
       "45461        Rising and falling between a man and woman.   0.072051  ...   \n",
       "45462  An artist struggles to finish his work while a...   0.178241  ...   \n",
       "45463  When one of her hits goes wrong, a professiona...   0.903007  ...   \n",
       "45464  In a small town live two brothers, one a minis...   0.003503  ...   \n",
       "45465  50 years after decriminalisation of homosexual...   0.163015  ...   \n",
       "\n",
       "           revenue runtime                                   spoken_languages  \\\n",
       "0      373554033.0    81.0           [{'iso_639_1': 'en', 'name': 'English'}]   \n",
       "1      262797249.0   104.0  [{'iso_639_1': 'en', 'name': 'English'}, {'iso...   \n",
       "2              0.0   101.0           [{'iso_639_1': 'en', 'name': 'English'}]   \n",
       "3       81452156.0   127.0           [{'iso_639_1': 'en', 'name': 'English'}]   \n",
       "4       76578911.0   106.0           [{'iso_639_1': 'en', 'name': 'English'}]   \n",
       "...            ...     ...                                                ...   \n",
       "45461          0.0    90.0             [{'iso_639_1': 'fa', 'name': 'فارسی'}]   \n",
       "45462          0.0   360.0                  [{'iso_639_1': 'tl', 'name': ''}]   \n",
       "45463          0.0    90.0           [{'iso_639_1': 'en', 'name': 'English'}]   \n",
       "45464          0.0    87.0                                                 []   \n",
       "45465          0.0    75.0           [{'iso_639_1': 'en', 'name': 'English'}]   \n",
       "\n",
       "         status                                            tagline  \\\n",
       "0      Released                                                NaN   \n",
       "1      Released          Roll the dice and unleash the excitement!   \n",
       "2      Released  Still Yelling. Still Fighting. Still Ready for...   \n",
       "3      Released  Friends are the people who let you be yourself...   \n",
       "4      Released  Just When His World Is Back To Normal... He's ...   \n",
       "...         ...                                                ...   \n",
       "45461  Released         Rising and falling between a man and woman   \n",
       "45462  Released                                                NaN   \n",
       "45463  Released                             A deadly game of wits.   \n",
       "45464  Released                                                NaN   \n",
       "45465  Released                                                NaN   \n",
       "\n",
       "                             title  video vote_average vote_count collectionId  \n",
       "0                        Toy Story  False          7.7     5415.0        10194  \n",
       "1                          Jumanji  False          6.9     2413.0           -1  \n",
       "2                 Grumpier Old Men  False          6.5       92.0       119050  \n",
       "3                Waiting to Exhale  False          6.1       34.0           -1  \n",
       "4      Father of the Bride Part II  False          5.7      173.0        96871  \n",
       "...                            ...    ...          ...        ...          ...  \n",
       "45461                       Subdue  False          4.0        1.0           -1  \n",
       "45462          Century of Birthing  False          9.0        3.0           -1  \n",
       "45463                     Betrayal  False          3.8        6.0           -1  \n",
       "45464             Satan Triumphant  False          0.0        0.0           -1  \n",
       "45465                     Queerama  False          0.0        0.0           -1  \n",
       "\n",
       "[45463 rows x 24 columns]"
      ]
     },
     "execution_count": 13,
     "metadata": {},
     "output_type": "execute_result"
    }
   ],
   "source": [
    "data"
   ]
  },
  {
   "cell_type": "markdown",
   "metadata": {
    "id": "jbG4ack_TNjP"
   },
   "source": [
    "# Budget"
   ]
  },
  {
   "cell_type": "code",
   "execution_count": 14,
   "metadata": {},
   "outputs": [
    {
     "data": {
      "text/plain": [
       "dtype('O')"
      ]
     },
     "execution_count": 14,
     "metadata": {},
     "output_type": "execute_result"
    }
   ],
   "source": [
    "data.budget.dtype"
   ]
  },
  {
   "cell_type": "code",
   "execution_count": 15,
   "metadata": {
    "colab": {
     "base_uri": "https://localhost:8080/"
    },
    "id": "oyinwbJQTO-l",
    "outputId": "d48b60db-f9b0-4569-b861-bf35f03dd864"
   },
   "outputs": [
    {
     "data": {
      "text/plain": [
       "count    4.546300e+04\n",
       "mean     4.224579e+06\n",
       "std      1.742413e+07\n",
       "min      0.000000e+00\n",
       "25%      0.000000e+00\n",
       "50%      0.000000e+00\n",
       "75%      0.000000e+00\n",
       "max      3.800000e+08\n",
       "Name: budget, dtype: float64"
      ]
     },
     "execution_count": 15,
     "metadata": {},
     "output_type": "execute_result"
    }
   ],
   "source": [
    "data.budget = data.budget.astype('int64')\n",
    "data.budget.describe()"
   ]
  },
  {
   "cell_type": "code",
   "execution_count": 16,
   "metadata": {
    "colab": {
     "base_uri": "https://localhost:8080/"
    },
    "id": "TkO_ZZ1kTprx",
    "outputId": "162a373d-698d-4fde-db7c-db37965a3565"
   },
   "outputs": [
    {
     "data": {
      "text/plain": [
       "80.44563711149726"
      ]
     },
     "execution_count": 16,
     "metadata": {},
     "output_type": "execute_result"
    }
   ],
   "source": [
    "# Percentage where budget is zero in the data.\n",
    "sum(data.budget == 0)*100/data.shape[0]"
   ]
  },
  {
   "cell_type": "markdown",
   "metadata": {},
   "source": [
    "Here, dropping this feature is advisable as most of the values are 0. Also, it depends upon the problem statement, wheteher to keep ore drop this feature. As here we are not considering the problem statement as such nad hence, general cleaning is done."
   ]
  },
  {
   "cell_type": "code",
   "execution_count": 17,
   "metadata": {
    "id": "GAylLbuQTxgQ"
   },
   "outputs": [],
   "source": [
    "data = data.drop(columns = ['budget'])"
   ]
  },
  {
   "cell_type": "markdown",
   "metadata": {
    "id": "nHck0Ho5T2vk"
   },
   "source": [
    "# Genres \n",
    "4 more features are added based on the genres types."
   ]
  },
  {
   "cell_type": "code",
   "execution_count": 18,
   "metadata": {
    "colab": {
     "base_uri": "https://localhost:8080/",
     "height": 35
    },
    "id": "E6U8hJm22FXD",
    "outputId": "645def15-bab2-47ff-aada-da0dbf193a39"
   },
   "outputs": [
    {
     "data": {
      "text/plain": [
       "\"[{'id': 16, 'name': 'Animation'}, {'id': 35, 'name': 'Comedy'}, {'id': 10751, 'name': 'Family'}]\""
      ]
     },
     "execution_count": 18,
     "metadata": {},
     "output_type": "execute_result"
    }
   ],
   "source": [
    "data.genres.values[0]"
   ]
  },
  {
   "cell_type": "code",
   "execution_count": 19,
   "metadata": {
    "id": "1jMnLeO4T46F"
   },
   "outputs": [],
   "source": [
    "index = 0\n",
    "gen1 = []\n",
    "\n",
    "for gen in data.genres.values:\n",
    "  genList = ast.literal_eval(gen)\n",
    "  if len(genList) > index:\n",
    "    gen1.append(genList[0]['name'])\n",
    "  else:\n",
    "    gen1.append(0)\n",
    "\n",
    "data['genre1'] = gen1"
   ]
  },
  {
   "cell_type": "code",
   "execution_count": 20,
   "metadata": {
    "id": "8ukW7ZGTUAd6"
   },
   "outputs": [],
   "source": [
    "index = 1\n",
    "gen2 = []\n",
    "\n",
    "for gen in data.genres.values:\n",
    "  genList = ast.literal_eval(gen)\n",
    "  if len(genList) > index:\n",
    "    gen2.append(genList[1]['name'])\n",
    "  else:\n",
    "    gen2.append(0)\n",
    "\n",
    "data['genre2'] = gen2"
   ]
  },
  {
   "cell_type": "code",
   "execution_count": 21,
   "metadata": {
    "id": "RcyXQXZSUFZa"
   },
   "outputs": [],
   "source": [
    "index = 2\n",
    "gen3 = []\n",
    "\n",
    "for gen in data.genres.values:\n",
    "  genList = ast.literal_eval(gen)\n",
    "  if len(genList) > index:\n",
    "    gen3.append(genList[2]['name'])\n",
    "  else:\n",
    "    gen3.append(0)\n",
    "\n",
    "data['genre3'] = gen3"
   ]
  },
  {
   "cell_type": "code",
   "execution_count": 22,
   "metadata": {
    "id": "dBHW45c43cFi"
   },
   "outputs": [],
   "source": [
    "index = 3\n",
    "gen4 = []\n",
    "\n",
    "for gen in data.genres.values:\n",
    "  genList = ast.literal_eval(gen)\n",
    "  if len(genList) > index:\n",
    "    gen4.append(genList[3]['name'])\n",
    "  else:\n",
    "    gen4.append(0)\n",
    "\n",
    "data['genre4'] = gen4"
   ]
  },
  {
   "cell_type": "code",
   "execution_count": 23,
   "metadata": {
    "colab": {
     "base_uri": "https://localhost:8080/"
    },
    "id": "sx5cwxnI3D73",
    "outputId": "4ca54349-563b-40f1-af36-007f966d78f7"
   },
   "outputs": [
    {
     "data": {
      "text/plain": [
       "90.3283989178013"
      ]
     },
     "execution_count": 23,
     "metadata": {},
     "output_type": "execute_result"
    }
   ],
   "source": [
    "sum(data.genre4 == 0)*100/data.shape[0]\n",
    "# only 10% of the movies from the data contains 4 genre."
   ]
  },
  {
   "cell_type": "code",
   "execution_count": 24,
   "metadata": {
    "id": "LDVHY09jULTa"
   },
   "outputs": [],
   "source": [
    "data = data.drop(columns = ['genres'])"
   ]
  },
  {
   "cell_type": "markdown",
   "metadata": {
    "id": "TC4bj1jJURvL"
   },
   "source": [
    "## Home Page"
   ]
  },
  {
   "cell_type": "code",
   "execution_count": 25,
   "metadata": {
    "id": "L25hHpil4P6S"
   },
   "outputs": [],
   "source": [
    "data['homePagePresent'] = (~data.homepage.isnull())"
   ]
  },
  {
   "cell_type": "code",
   "execution_count": 26,
   "metadata": {
    "id": "xOM4KOlrUTeb"
   },
   "outputs": [],
   "source": [
    "data = data.drop(columns = ['homepage'])"
   ]
  },
  {
   "cell_type": "markdown",
   "metadata": {
    "id": "DejNtUQZUaSs"
   },
   "source": [
    "# Id"
   ]
  },
  {
   "cell_type": "code",
   "execution_count": 27,
   "metadata": {
    "id": "FJCpbKggUbmu"
   },
   "outputs": [
    {
     "data": {
      "text/plain": [
       "30"
      ]
     },
     "execution_count": 27,
     "metadata": {},
     "output_type": "execute_result"
    }
   ],
   "source": [
    "(data.shape[0] - len(data.id.unique()))"
   ]
  },
  {
   "cell_type": "code",
   "execution_count": 28,
   "metadata": {},
   "outputs": [],
   "source": [
    "# Dropping the duplicates\n",
    "data = data.drop_duplicates(subset = 'id')"
   ]
  },
  {
   "cell_type": "code",
   "execution_count": 29,
   "metadata": {
    "id": "JYAMxlOin20K"
   },
   "outputs": [],
   "source": [
    "# Dropping the imdb_id as already having id for movies. \n",
    "data = data.drop(columns = ['imdb_id'])"
   ]
  },
  {
   "cell_type": "markdown",
   "metadata": {
    "id": "2bQrX6e_Ukx0"
   },
   "source": [
    "# Original Language"
   ]
  },
  {
   "cell_type": "code",
   "execution_count": 30,
   "metadata": {
    "id": "GViLElA2Uo8Z"
   },
   "outputs": [
    {
     "data": {
      "text/plain": [
       "en    32251\n",
       "fr     2436\n",
       "it     1529\n",
       "ja     1347\n",
       "de     1079\n",
       "      ...  \n",
       "tg        1\n",
       "qu        1\n",
       "ay        1\n",
       "mt        1\n",
       "eo        1\n",
       "Name: original_language, Length: 89, dtype: int64"
      ]
     },
     "execution_count": 30,
     "metadata": {},
     "output_type": "execute_result"
    }
   ],
   "source": [
    "data.original_language.value_counts()"
   ]
  },
  {
   "cell_type": "code",
   "execution_count": 31,
   "metadata": {},
   "outputs": [
    {
     "data": {
      "text/html": [
       "<div>\n",
       "<style scoped>\n",
       "    .dataframe tbody tr th:only-of-type {\n",
       "        vertical-align: middle;\n",
       "    }\n",
       "\n",
       "    .dataframe tbody tr th {\n",
       "        vertical-align: top;\n",
       "    }\n",
       "\n",
       "    .dataframe thead th {\n",
       "        text-align: right;\n",
       "    }\n",
       "</style>\n",
       "<table border=\"1\" class=\"dataframe\">\n",
       "  <thead>\n",
       "    <tr style=\"text-align: right;\">\n",
       "      <th></th>\n",
       "      <th>adult</th>\n",
       "      <th>id</th>\n",
       "      <th>original_language</th>\n",
       "      <th>original_title</th>\n",
       "      <th>overview</th>\n",
       "      <th>popularity</th>\n",
       "      <th>poster_path</th>\n",
       "      <th>production_companies</th>\n",
       "      <th>production_countries</th>\n",
       "      <th>release_date</th>\n",
       "      <th>...</th>\n",
       "      <th>title</th>\n",
       "      <th>video</th>\n",
       "      <th>vote_average</th>\n",
       "      <th>vote_count</th>\n",
       "      <th>collectionId</th>\n",
       "      <th>genre1</th>\n",
       "      <th>genre2</th>\n",
       "      <th>genre3</th>\n",
       "      <th>genre4</th>\n",
       "      <th>homePagePresent</th>\n",
       "    </tr>\n",
       "  </thead>\n",
       "  <tbody>\n",
       "    <tr>\n",
       "      <th>19574</th>\n",
       "      <td>False</td>\n",
       "      <td>283101</td>\n",
       "      <td>NaN</td>\n",
       "      <td>Shadowing the Third Man</td>\n",
       "      <td>Documentary about the production of The Third ...</td>\n",
       "      <td>0.017007</td>\n",
       "      <td>/xT9csxMKYbizRQgvNzCXJ67R7er.jpg</td>\n",
       "      <td>[{'name': 'StudioCanal', 'id': 694}, {'name': ...</td>\n",
       "      <td>[{'iso_3166_1': 'AT', 'name': 'Austria'}, {'is...</td>\n",
       "      <td>2004-10-11</td>\n",
       "      <td>...</td>\n",
       "      <td>Shadowing the Third Man</td>\n",
       "      <td>False</td>\n",
       "      <td>0.0</td>\n",
       "      <td>0.0</td>\n",
       "      <td>-1</td>\n",
       "      <td>Documentary</td>\n",
       "      <td>0</td>\n",
       "      <td>0</td>\n",
       "      <td>0</td>\n",
       "      <td>False</td>\n",
       "    </tr>\n",
       "    <tr>\n",
       "      <th>21602</th>\n",
       "      <td>False</td>\n",
       "      <td>103902</td>\n",
       "      <td>NaN</td>\n",
       "      <td>Unfinished Sky</td>\n",
       "      <td>An Outback farmer takes in an Afghani woman wh...</td>\n",
       "      <td>0.359818</td>\n",
       "      <td>/vfaJuZF0ocVwBEDYZhoULGuVxrz.jpg</td>\n",
       "      <td>[{'name': 'New Holland Pictures', 'id': 10229}...</td>\n",
       "      <td>[{'iso_3166_1': 'AU', 'name': 'Australia'}]</td>\n",
       "      <td>2007-08-04</td>\n",
       "      <td>...</td>\n",
       "      <td>Unfinished Sky</td>\n",
       "      <td>False</td>\n",
       "      <td>6.4</td>\n",
       "      <td>8.0</td>\n",
       "      <td>-1</td>\n",
       "      <td>Romance</td>\n",
       "      <td>Drama</td>\n",
       "      <td>0</td>\n",
       "      <td>0</td>\n",
       "      <td>False</td>\n",
       "    </tr>\n",
       "    <tr>\n",
       "      <th>22832</th>\n",
       "      <td>False</td>\n",
       "      <td>359195</td>\n",
       "      <td>NaN</td>\n",
       "      <td>13 Fighting Men</td>\n",
       "      <td>A group of Union Army soldiers is charged with...</td>\n",
       "      <td>0.070647</td>\n",
       "      <td>/q5ADXvvzYtAOyrReIg1HckdPj62.jpg</td>\n",
       "      <td>[{'name': 'Associated Producers (API)', 'id': ...</td>\n",
       "      <td>[{'iso_3166_1': 'US', 'name': 'United States o...</td>\n",
       "      <td>1960-03-31</td>\n",
       "      <td>...</td>\n",
       "      <td>13 Fighting Men</td>\n",
       "      <td>False</td>\n",
       "      <td>0.0</td>\n",
       "      <td>0.0</td>\n",
       "      <td>-1</td>\n",
       "      <td>War</td>\n",
       "      <td>Western</td>\n",
       "      <td>0</td>\n",
       "      <td>0</td>\n",
       "      <td>False</td>\n",
       "    </tr>\n",
       "    <tr>\n",
       "      <th>32141</th>\n",
       "      <td>False</td>\n",
       "      <td>147050</td>\n",
       "      <td>NaN</td>\n",
       "      <td>Lambchops</td>\n",
       "      <td>George and Gracie enter an elegant drawing roo...</td>\n",
       "      <td>0.073418</td>\n",
       "      <td>/upQByEwY58sHWdL3RZm7kmRc44s.jpg</td>\n",
       "      <td>[{'name': 'Warner Bros.', 'id': 6194}, {'name'...</td>\n",
       "      <td>[{'iso_3166_1': 'US', 'name': 'United States o...</td>\n",
       "      <td>1929-10-31</td>\n",
       "      <td>...</td>\n",
       "      <td>Lambchops</td>\n",
       "      <td>False</td>\n",
       "      <td>6.5</td>\n",
       "      <td>2.0</td>\n",
       "      <td>-1</td>\n",
       "      <td>Comedy</td>\n",
       "      <td>0</td>\n",
       "      <td>0</td>\n",
       "      <td>0</td>\n",
       "      <td>False</td>\n",
       "    </tr>\n",
       "    <tr>\n",
       "      <th>37407</th>\n",
       "      <td>False</td>\n",
       "      <td>257095</td>\n",
       "      <td>NaN</td>\n",
       "      <td>Bajaja</td>\n",
       "      <td>The first fairy tale transformed into a full-l...</td>\n",
       "      <td>0.036841</td>\n",
       "      <td>/12wf2EkrPGxNzRbNyoau8GIFp3M.jpg</td>\n",
       "      <td>[{'name': 'Ceskoslovenský Státní Film', 'id': ...</td>\n",
       "      <td>[{'iso_3166_1': 'CZ', 'name': 'Czech Republic'}]</td>\n",
       "      <td>1950-01-26</td>\n",
       "      <td>...</td>\n",
       "      <td>Prince Bayaya</td>\n",
       "      <td>False</td>\n",
       "      <td>5.0</td>\n",
       "      <td>1.0</td>\n",
       "      <td>-1</td>\n",
       "      <td>Animation</td>\n",
       "      <td>0</td>\n",
       "      <td>0</td>\n",
       "      <td>0</td>\n",
       "      <td>False</td>\n",
       "    </tr>\n",
       "    <tr>\n",
       "      <th>41047</th>\n",
       "      <td>False</td>\n",
       "      <td>332742</td>\n",
       "      <td>NaN</td>\n",
       "      <td>Song of Lahore</td>\n",
       "      <td>Until the late 1970s, the Pakistani city of La...</td>\n",
       "      <td>0.373688</td>\n",
       "      <td>/6iJqscs2xQLKKvrTCWmlHd9rf3W.jpg</td>\n",
       "      <td>[]</td>\n",
       "      <td>[]</td>\n",
       "      <td>2015-11-13</td>\n",
       "      <td>...</td>\n",
       "      <td>Song of Lahore</td>\n",
       "      <td>False</td>\n",
       "      <td>6.5</td>\n",
       "      <td>2.0</td>\n",
       "      <td>-1</td>\n",
       "      <td>Documentary</td>\n",
       "      <td>0</td>\n",
       "      <td>0</td>\n",
       "      <td>0</td>\n",
       "      <td>False</td>\n",
       "    </tr>\n",
       "    <tr>\n",
       "      <th>41872</th>\n",
       "      <td>False</td>\n",
       "      <td>144410</td>\n",
       "      <td>NaN</td>\n",
       "      <td>Annabelle Serpentine Dance</td>\n",
       "      <td>Two dancers perform in succession facing a sta...</td>\n",
       "      <td>1.58434</td>\n",
       "      <td>/l7Lzvah6PL6vdMF5p0elKiyYqp9.jpg</td>\n",
       "      <td>[{'name': 'Edison Manufacturing Company', 'id'...</td>\n",
       "      <td>[{'iso_3166_1': 'US', 'name': 'United States o...</td>\n",
       "      <td>1895-04-01</td>\n",
       "      <td>...</td>\n",
       "      <td>Annabelle Serpentine Dance</td>\n",
       "      <td>False</td>\n",
       "      <td>5.7</td>\n",
       "      <td>20.0</td>\n",
       "      <td>-1</td>\n",
       "      <td>Documentary</td>\n",
       "      <td>0</td>\n",
       "      <td>0</td>\n",
       "      <td>0</td>\n",
       "      <td>False</td>\n",
       "    </tr>\n",
       "    <tr>\n",
       "      <th>44057</th>\n",
       "      <td>False</td>\n",
       "      <td>380438</td>\n",
       "      <td>NaN</td>\n",
       "      <td>Lettre d'une inconnue</td>\n",
       "      <td>NaN</td>\n",
       "      <td>0.001283</td>\n",
       "      <td>/gk32ZWTYgfTXctEyCDAWeMcxo7X.jpg</td>\n",
       "      <td>[]</td>\n",
       "      <td>[{'iso_3166_1': 'FR', 'name': 'France'}]</td>\n",
       "      <td>2001-01-01</td>\n",
       "      <td>...</td>\n",
       "      <td>Lettre d'une inconnue</td>\n",
       "      <td>False</td>\n",
       "      <td>0.0</td>\n",
       "      <td>0.0</td>\n",
       "      <td>-1</td>\n",
       "      <td>Drama</td>\n",
       "      <td>0</td>\n",
       "      <td>0</td>\n",
       "      <td>0</td>\n",
       "      <td>False</td>\n",
       "    </tr>\n",
       "    <tr>\n",
       "      <th>44410</th>\n",
       "      <td>False</td>\n",
       "      <td>381096</td>\n",
       "      <td>NaN</td>\n",
       "      <td>Garn</td>\n",
       "      <td>The traditional crafts of crochet and knitting...</td>\n",
       "      <td>0.067624</td>\n",
       "      <td>/olEOCEGTW15WBPC0UnmLjokrmNF.jpg</td>\n",
       "      <td>[]</td>\n",
       "      <td>[]</td>\n",
       "      <td>2016-03-12</td>\n",
       "      <td>...</td>\n",
       "      <td>Yarn</td>\n",
       "      <td>False</td>\n",
       "      <td>0.0</td>\n",
       "      <td>0.0</td>\n",
       "      <td>-1</td>\n",
       "      <td>Animation</td>\n",
       "      <td>Documentary</td>\n",
       "      <td>0</td>\n",
       "      <td>0</td>\n",
       "      <td>False</td>\n",
       "    </tr>\n",
       "    <tr>\n",
       "      <th>44576</th>\n",
       "      <td>False</td>\n",
       "      <td>381525</td>\n",
       "      <td>NaN</td>\n",
       "      <td>WiNWiN</td>\n",
       "      <td>American investment fund buys Austrian compani...</td>\n",
       "      <td>0.030766</td>\n",
       "      <td>/pErCRQoc3nt8lCsExd3fFYgyBox.jpg</td>\n",
       "      <td>[]</td>\n",
       "      <td>[{'iso_3166_1': 'AT', 'name': 'Austria'}]</td>\n",
       "      <td>2016-01-27</td>\n",
       "      <td>...</td>\n",
       "      <td>WiNWiN</td>\n",
       "      <td>False</td>\n",
       "      <td>0.0</td>\n",
       "      <td>0.0</td>\n",
       "      <td>-1</td>\n",
       "      <td>0</td>\n",
       "      <td>0</td>\n",
       "      <td>0</td>\n",
       "      <td>0</td>\n",
       "      <td>False</td>\n",
       "    </tr>\n",
       "    <tr>\n",
       "      <th>44655</th>\n",
       "      <td>False</td>\n",
       "      <td>104473</td>\n",
       "      <td>NaN</td>\n",
       "      <td>La prise de Tournavos</td>\n",
       "      <td>Three military men, seen inside a fortificatio...</td>\n",
       "      <td>0.471325</td>\n",
       "      <td>/4VmQBE9qBRxCE3gHtSAa5AUsURq.jpg</td>\n",
       "      <td>[{'name': 'Star-Film', 'id': 7159}]</td>\n",
       "      <td>[{'iso_3166_1': 'FR', 'name': 'France'}]</td>\n",
       "      <td>1897-01-01</td>\n",
       "      <td>...</td>\n",
       "      <td>The Surrender of Tournavos</td>\n",
       "      <td>False</td>\n",
       "      <td>4.6</td>\n",
       "      <td>5.0</td>\n",
       "      <td>-1</td>\n",
       "      <td>Action</td>\n",
       "      <td>War</td>\n",
       "      <td>Drama</td>\n",
       "      <td>History</td>\n",
       "      <td>False</td>\n",
       "    </tr>\n",
       "  </tbody>\n",
       "</table>\n",
       "<p>11 rows × 25 columns</p>\n",
       "</div>"
      ],
      "text/plain": [
       "       adult      id original_language              original_title  \\\n",
       "19574  False  283101               NaN     Shadowing the Third Man   \n",
       "21602  False  103902               NaN              Unfinished Sky   \n",
       "22832  False  359195               NaN             13 Fighting Men   \n",
       "32141  False  147050               NaN                   Lambchops   \n",
       "37407  False  257095               NaN                      Bajaja   \n",
       "41047  False  332742               NaN              Song of Lahore   \n",
       "41872  False  144410               NaN  Annabelle Serpentine Dance   \n",
       "44057  False  380438               NaN       Lettre d'une inconnue   \n",
       "44410  False  381096               NaN                        Garn   \n",
       "44576  False  381525               NaN                      WiNWiN   \n",
       "44655  False  104473               NaN       La prise de Tournavos   \n",
       "\n",
       "                                                overview popularity  \\\n",
       "19574  Documentary about the production of The Third ...   0.017007   \n",
       "21602  An Outback farmer takes in an Afghani woman wh...   0.359818   \n",
       "22832  A group of Union Army soldiers is charged with...   0.070647   \n",
       "32141  George and Gracie enter an elegant drawing roo...   0.073418   \n",
       "37407  The first fairy tale transformed into a full-l...   0.036841   \n",
       "41047  Until the late 1970s, the Pakistani city of La...   0.373688   \n",
       "41872  Two dancers perform in succession facing a sta...    1.58434   \n",
       "44057                                                NaN   0.001283   \n",
       "44410  The traditional crafts of crochet and knitting...   0.067624   \n",
       "44576  American investment fund buys Austrian compani...   0.030766   \n",
       "44655  Three military men, seen inside a fortificatio...   0.471325   \n",
       "\n",
       "                            poster_path  \\\n",
       "19574  /xT9csxMKYbizRQgvNzCXJ67R7er.jpg   \n",
       "21602  /vfaJuZF0ocVwBEDYZhoULGuVxrz.jpg   \n",
       "22832  /q5ADXvvzYtAOyrReIg1HckdPj62.jpg   \n",
       "32141  /upQByEwY58sHWdL3RZm7kmRc44s.jpg   \n",
       "37407  /12wf2EkrPGxNzRbNyoau8GIFp3M.jpg   \n",
       "41047  /6iJqscs2xQLKKvrTCWmlHd9rf3W.jpg   \n",
       "41872  /l7Lzvah6PL6vdMF5p0elKiyYqp9.jpg   \n",
       "44057  /gk32ZWTYgfTXctEyCDAWeMcxo7X.jpg   \n",
       "44410  /olEOCEGTW15WBPC0UnmLjokrmNF.jpg   \n",
       "44576  /pErCRQoc3nt8lCsExd3fFYgyBox.jpg   \n",
       "44655  /4VmQBE9qBRxCE3gHtSAa5AUsURq.jpg   \n",
       "\n",
       "                                    production_companies  \\\n",
       "19574  [{'name': 'StudioCanal', 'id': 694}, {'name': ...   \n",
       "21602  [{'name': 'New Holland Pictures', 'id': 10229}...   \n",
       "22832  [{'name': 'Associated Producers (API)', 'id': ...   \n",
       "32141  [{'name': 'Warner Bros.', 'id': 6194}, {'name'...   \n",
       "37407  [{'name': 'Ceskoslovenský Státní Film', 'id': ...   \n",
       "41047                                                 []   \n",
       "41872  [{'name': 'Edison Manufacturing Company', 'id'...   \n",
       "44057                                                 []   \n",
       "44410                                                 []   \n",
       "44576                                                 []   \n",
       "44655                [{'name': 'Star-Film', 'id': 7159}]   \n",
       "\n",
       "                                    production_countries release_date  ...  \\\n",
       "19574  [{'iso_3166_1': 'AT', 'name': 'Austria'}, {'is...   2004-10-11  ...   \n",
       "21602        [{'iso_3166_1': 'AU', 'name': 'Australia'}]   2007-08-04  ...   \n",
       "22832  [{'iso_3166_1': 'US', 'name': 'United States o...   1960-03-31  ...   \n",
       "32141  [{'iso_3166_1': 'US', 'name': 'United States o...   1929-10-31  ...   \n",
       "37407   [{'iso_3166_1': 'CZ', 'name': 'Czech Republic'}]   1950-01-26  ...   \n",
       "41047                                                 []   2015-11-13  ...   \n",
       "41872  [{'iso_3166_1': 'US', 'name': 'United States o...   1895-04-01  ...   \n",
       "44057           [{'iso_3166_1': 'FR', 'name': 'France'}]   2001-01-01  ...   \n",
       "44410                                                 []   2016-03-12  ...   \n",
       "44576          [{'iso_3166_1': 'AT', 'name': 'Austria'}]   2016-01-27  ...   \n",
       "44655           [{'iso_3166_1': 'FR', 'name': 'France'}]   1897-01-01  ...   \n",
       "\n",
       "                            title  video vote_average vote_count collectionId  \\\n",
       "19574     Shadowing the Third Man  False          0.0        0.0           -1   \n",
       "21602              Unfinished Sky  False          6.4        8.0           -1   \n",
       "22832             13 Fighting Men  False          0.0        0.0           -1   \n",
       "32141                   Lambchops  False          6.5        2.0           -1   \n",
       "37407               Prince Bayaya  False          5.0        1.0           -1   \n",
       "41047              Song of Lahore  False          6.5        2.0           -1   \n",
       "41872  Annabelle Serpentine Dance  False          5.7       20.0           -1   \n",
       "44057       Lettre d'une inconnue  False          0.0        0.0           -1   \n",
       "44410                        Yarn  False          0.0        0.0           -1   \n",
       "44576                      WiNWiN  False          0.0        0.0           -1   \n",
       "44655  The Surrender of Tournavos  False          4.6        5.0           -1   \n",
       "\n",
       "            genre1       genre2  genre3   genre4  homePagePresent  \n",
       "19574  Documentary            0       0        0            False  \n",
       "21602      Romance        Drama       0        0            False  \n",
       "22832          War      Western       0        0            False  \n",
       "32141       Comedy            0       0        0            False  \n",
       "37407    Animation            0       0        0            False  \n",
       "41047  Documentary            0       0        0            False  \n",
       "41872  Documentary            0       0        0            False  \n",
       "44057        Drama            0       0        0            False  \n",
       "44410    Animation  Documentary       0        0            False  \n",
       "44576            0            0       0        0            False  \n",
       "44655       Action          War   Drama  History            False  \n",
       "\n",
       "[11 rows x 25 columns]"
      ]
     },
     "execution_count": 31,
     "metadata": {},
     "output_type": "execute_result"
    }
   ],
   "source": [
    "# Here, through google search, we could fill these 11 null values. But here I have dropped them.\n",
    "data.loc[data.original_language.isnull(),:]"
   ]
  },
  {
   "cell_type": "code",
   "execution_count": 32,
   "metadata": {},
   "outputs": [],
   "source": [
    "data = data.dropna(subset = ['original_language'])"
   ]
  },
  {
   "cell_type": "markdown",
   "metadata": {
    "id": "53nhvtWZVF-b"
   },
   "source": [
    "# Title"
   ]
  },
  {
   "cell_type": "code",
   "execution_count": 33,
   "metadata": {
    "colab": {
     "base_uri": "https://localhost:8080/"
    },
    "id": "jQWYqh6rVHU-",
    "outputId": "a5a47230-ecae-496c-917e-08ad269df862"
   },
   "outputs": [
    {
     "data": {
      "text/plain": [
       "3"
      ]
     },
     "execution_count": 33,
     "metadata": {},
     "output_type": "execute_result"
    }
   ],
   "source": [
    "data.title.isnull().sum()"
   ]
  },
  {
   "cell_type": "code",
   "execution_count": 34,
   "metadata": {},
   "outputs": [
    {
     "data": {
      "text/plain": [
       "0.9305402668310511"
      ]
     },
     "execution_count": 34,
     "metadata": {},
     "output_type": "execute_result"
    }
   ],
   "source": [
    "len(data.title.unique())/data.shape[0]"
   ]
  },
  {
   "cell_type": "code",
   "execution_count": 35,
   "metadata": {
    "colab": {
     "base_uri": "https://localhost:8080/"
    },
    "id": "Qf5CZVhiVKny",
    "outputId": "f95a1f12-84a2-43bd-b384-63569af35f36"
   },
   "outputs": [
    {
     "data": {
      "text/plain": [
       "0.9546034961032099"
      ]
     },
     "execution_count": 35,
     "metadata": {},
     "output_type": "execute_result"
    }
   ],
   "source": [
    "data.original_title.isnull().sum()\n",
    "len(data.original_title.unique())/data.shape[0]"
   ]
  },
  {
   "cell_type": "code",
   "execution_count": 36,
   "metadata": {
    "colab": {
     "base_uri": "https://localhost:8080/",
     "height": 406
    },
    "id": "Sm7HJACX7lNA",
    "outputId": "f058db99-a6b8-4de6-c91d-1857da86c35d"
   },
   "outputs": [
    {
     "data": {
      "text/html": [
       "<div>\n",
       "<style scoped>\n",
       "    .dataframe tbody tr th:only-of-type {\n",
       "        vertical-align: middle;\n",
       "    }\n",
       "\n",
       "    .dataframe tbody tr th {\n",
       "        vertical-align: top;\n",
       "    }\n",
       "\n",
       "    .dataframe thead th {\n",
       "        text-align: right;\n",
       "    }\n",
       "</style>\n",
       "<table border=\"1\" class=\"dataframe\">\n",
       "  <thead>\n",
       "    <tr style=\"text-align: right;\">\n",
       "      <th></th>\n",
       "      <th>adult</th>\n",
       "      <th>id</th>\n",
       "      <th>original_language</th>\n",
       "      <th>original_title</th>\n",
       "      <th>overview</th>\n",
       "      <th>popularity</th>\n",
       "      <th>poster_path</th>\n",
       "      <th>production_companies</th>\n",
       "      <th>production_countries</th>\n",
       "      <th>release_date</th>\n",
       "      <th>...</th>\n",
       "      <th>title</th>\n",
       "      <th>video</th>\n",
       "      <th>vote_average</th>\n",
       "      <th>vote_count</th>\n",
       "      <th>collectionId</th>\n",
       "      <th>genre1</th>\n",
       "      <th>genre2</th>\n",
       "      <th>genre3</th>\n",
       "      <th>genre4</th>\n",
       "      <th>homePagePresent</th>\n",
       "    </tr>\n",
       "  </thead>\n",
       "  <tbody>\n",
       "    <tr>\n",
       "      <th>19729</th>\n",
       "      <td>False</td>\n",
       "      <td>82663</td>\n",
       "      <td>en</td>\n",
       "      <td>Midnight Man</td>\n",
       "      <td>British soldiers force a recently captured IRA...</td>\n",
       "      <td>NaN</td>\n",
       "      <td>NaN</td>\n",
       "      <td>NaN</td>\n",
       "      <td>NaN</td>\n",
       "      <td>NaN</td>\n",
       "      <td>...</td>\n",
       "      <td>NaN</td>\n",
       "      <td>NaN</td>\n",
       "      <td>NaN</td>\n",
       "      <td>NaN</td>\n",
       "      <td>-1</td>\n",
       "      <td>Action</td>\n",
       "      <td>Thriller</td>\n",
       "      <td>Drama</td>\n",
       "      <td>0</td>\n",
       "      <td>False</td>\n",
       "    </tr>\n",
       "    <tr>\n",
       "      <th>29502</th>\n",
       "      <td>False</td>\n",
       "      <td>122662</td>\n",
       "      <td>ja</td>\n",
       "      <td>マルドゥック・スクランブル 排気</td>\n",
       "      <td>Third film of the Mardock Scramble series.</td>\n",
       "      <td>NaN</td>\n",
       "      <td>NaN</td>\n",
       "      <td>NaN</td>\n",
       "      <td>NaN</td>\n",
       "      <td>NaN</td>\n",
       "      <td>...</td>\n",
       "      <td>NaN</td>\n",
       "      <td>NaN</td>\n",
       "      <td>NaN</td>\n",
       "      <td>NaN</td>\n",
       "      <td>122661</td>\n",
       "      <td>Animation</td>\n",
       "      <td>Science Fiction</td>\n",
       "      <td>0</td>\n",
       "      <td>0</td>\n",
       "      <td>True</td>\n",
       "    </tr>\n",
       "    <tr>\n",
       "      <th>35586</th>\n",
       "      <td>False</td>\n",
       "      <td>249260</td>\n",
       "      <td>en</td>\n",
       "      <td>Avalanche Sharks</td>\n",
       "      <td>A group of skiers are terrorized during spring...</td>\n",
       "      <td>NaN</td>\n",
       "      <td>NaN</td>\n",
       "      <td>NaN</td>\n",
       "      <td>NaN</td>\n",
       "      <td>NaN</td>\n",
       "      <td>...</td>\n",
       "      <td>NaN</td>\n",
       "      <td>NaN</td>\n",
       "      <td>NaN</td>\n",
       "      <td>NaN</td>\n",
       "      <td>-1</td>\n",
       "      <td>TV Movie</td>\n",
       "      <td>Action</td>\n",
       "      <td>Horror</td>\n",
       "      <td>Science Fiction</td>\n",
       "      <td>False</td>\n",
       "    </tr>\n",
       "  </tbody>\n",
       "</table>\n",
       "<p>3 rows × 25 columns</p>\n",
       "</div>"
      ],
      "text/plain": [
       "       adult      id original_language    original_title  \\\n",
       "19729  False   82663                en      Midnight Man   \n",
       "29502  False  122662                ja  マルドゥック・スクランブル 排気   \n",
       "35586  False  249260                en  Avalanche Sharks   \n",
       "\n",
       "                                                overview popularity  \\\n",
       "19729  British soldiers force a recently captured IRA...        NaN   \n",
       "29502         Third film of the Mardock Scramble series.        NaN   \n",
       "35586  A group of skiers are terrorized during spring...        NaN   \n",
       "\n",
       "      poster_path production_companies production_countries release_date  ...  \\\n",
       "19729         NaN                  NaN                  NaN          NaN  ...   \n",
       "29502         NaN                  NaN                  NaN          NaN  ...   \n",
       "35586         NaN                  NaN                  NaN          NaN  ...   \n",
       "\n",
       "       title  video vote_average vote_count collectionId     genre1  \\\n",
       "19729    NaN    NaN          NaN        NaN           -1     Action   \n",
       "29502    NaN    NaN          NaN        NaN       122661  Animation   \n",
       "35586    NaN    NaN          NaN        NaN           -1   TV Movie   \n",
       "\n",
       "                genre2  genre3           genre4  homePagePresent  \n",
       "19729         Thriller   Drama                0            False  \n",
       "29502  Science Fiction       0                0             True  \n",
       "35586           Action  Horror  Science Fiction            False  \n",
       "\n",
       "[3 rows x 25 columns]"
      ]
     },
     "execution_count": 36,
     "metadata": {},
     "output_type": "execute_result"
    }
   ],
   "source": [
    "data.loc[data.title.isnull(),:]"
   ]
  },
  {
   "cell_type": "code",
   "execution_count": 37,
   "metadata": {
    "id": "tdzrBWh6VRff"
   },
   "outputs": [],
   "source": [
    "data = data.drop(columns = ['title'])"
   ]
  },
  {
   "cell_type": "code",
   "execution_count": 38,
   "metadata": {
    "id": "JNNp1PbUVihB"
   },
   "outputs": [],
   "source": [
    "# Converting the words into lowercase, as python is case sensitive. And removing extra spaces.\n",
    "data.original_title = data['original_title'].str.lower()\n",
    "data.original_title = data['original_title'].str.strip()"
   ]
  },
  {
   "cell_type": "markdown",
   "metadata": {
    "id": "_CP0gLHzVqAg"
   },
   "source": [
    "# Overview"
   ]
  },
  {
   "cell_type": "code",
   "execution_count": 39,
   "metadata": {
    "colab": {
     "base_uri": "https://localhost:8080/"
    },
    "id": "eReA0T8e9CrQ",
    "outputId": "be14d960-2f69-42fa-e19f-462fea791b0c"
   },
   "outputs": [
    {
     "data": {
      "text/plain": [
       "0        led by woody, andy's toys live happily in his ...\n",
       "1        when siblings judy and peter discover an encha...\n",
       "2        a family wedding reignites the ancient feud be...\n",
       "3        cheated on, mistreated and stepped on, the wom...\n",
       "4        just when george banks has recovered from his ...\n",
       "                               ...                        \n",
       "45461          rising and falling between a man and woman.\n",
       "45462    an artist struggles to finish his work while a...\n",
       "45463    when one of her hits goes wrong, a professiona...\n",
       "45464    in a small town live two brothers, one a minis...\n",
       "45465    50 years after decriminalisation of homosexual...\n",
       "Name: overview, Length: 45422, dtype: object"
      ]
     },
     "execution_count": 39,
     "metadata": {},
     "output_type": "execute_result"
    }
   ],
   "source": [
    "data.overview = data.overview.str.lower()\n",
    "data.overview = data.overview.str.strip()\n",
    "data.overview"
   ]
  },
  {
   "cell_type": "markdown",
   "metadata": {
    "id": "uikAfrrIV0l2"
   },
   "source": [
    "# Popularity"
   ]
  },
  {
   "cell_type": "code",
   "execution_count": 40,
   "metadata": {
    "colab": {
     "base_uri": "https://localhost:8080/"
    },
    "id": "bS4-h8UiV2du",
    "outputId": "429523d3-f1a2-498b-c9ec-38f8f0622523"
   },
   "outputs": [],
   "source": [
    "data.popularity = data.popularity.astype('float64')"
   ]
  },
  {
   "cell_type": "code",
   "execution_count": 41,
   "metadata": {},
   "outputs": [
    {
     "data": {
      "text/plain": [
       "16"
      ]
     },
     "execution_count": 41,
     "metadata": {},
     "output_type": "execute_result"
    }
   ],
   "source": [
    "# Popularity cannot be greater than 100.\n",
    "sum(data.popularity > 100)"
   ]
  },
  {
   "cell_type": "code",
   "execution_count": 42,
   "metadata": {
    "id": "ANvjPH2sV-Kk"
   },
   "outputs": [],
   "source": [
    "#Ooutlier detection - 1) domain knowledge 2) u need to handle them \n",
    "data = data.loc[(data.popularity > 0) & (data.popularity <= 100),:]"
   ]
  },
  {
   "cell_type": "markdown",
   "metadata": {
    "id": "6bbCsoTXWALW"
   },
   "source": [
    "# Vote Count and Vote Average"
   ]
  },
  {
   "cell_type": "code",
   "execution_count": 43,
   "metadata": {},
   "outputs": [
    {
     "data": {
      "text/plain": [
       "0"
      ]
     },
     "execution_count": 43,
     "metadata": {},
     "output_type": "execute_result"
    }
   ],
   "source": [
    "data.vote_count.isnull().sum()"
   ]
  },
  {
   "cell_type": "code",
   "execution_count": 44,
   "metadata": {
    "id": "rKgHWxnHWHru"
   },
   "outputs": [],
   "source": [
    "data.vote_average = data.vote_average.astype('float64')\n",
    "data.vote_count = data.vote_count.astype('int64')"
   ]
  },
  {
   "cell_type": "code",
   "execution_count": 45,
   "metadata": {
    "colab": {
     "base_uri": "https://localhost:8080/"
    },
    "id": "9_rz5rV6WNUN",
    "outputId": "24b2e548-9a39-4f19-d5a0-519cf3e5b81f"
   },
   "outputs": [
    {
     "data": {
      "text/plain": [
       "count    45337.000000\n",
       "mean       107.905309\n",
       "std        473.834165\n",
       "min          0.000000\n",
       "25%          3.000000\n",
       "50%         10.000000\n",
       "75%         34.000000\n",
       "max      14075.000000\n",
       "Name: vote_count, dtype: float64"
      ]
     },
     "execution_count": 45,
     "metadata": {},
     "output_type": "execute_result"
    }
   ],
   "source": [
    "data.vote_count.describe()"
   ]
  },
  {
   "cell_type": "code",
   "execution_count": 46,
   "metadata": {
    "colab": {
     "base_uri": "https://localhost:8080/"
    },
    "id": "swYLS2iiWPa8",
    "outputId": "6867a776-286e-4f74-cf11-6bfe972c6327"
   },
   "outputs": [
    {
     "data": {
      "text/plain": [
       "count    45337.000000\n",
       "mean         5.626528\n",
       "std          1.912920\n",
       "min          0.000000\n",
       "25%          5.000000\n",
       "50%          6.000000\n",
       "75%          6.800000\n",
       "max         10.000000\n",
       "Name: vote_average, dtype: float64"
      ]
     },
     "execution_count": 46,
     "metadata": {},
     "output_type": "execute_result"
    }
   ],
   "source": [
    "data.vote_average.describe()"
   ]
  },
  {
   "cell_type": "markdown",
   "metadata": {
    "id": "3j-RcAY_Wehn"
   },
   "source": [
    "# Poster Path"
   ]
  },
  {
   "cell_type": "code",
   "execution_count": 47,
   "metadata": {
    "colab": {
     "base_uri": "https://localhost:8080/"
    },
    "id": "kYw3v6DqBzzu",
    "outputId": "e6815295-33d3-44ac-cc07-32af9cef994d"
   },
   "outputs": [
    {
     "data": {
      "text/plain": [
       "355"
      ]
     },
     "execution_count": 47,
     "metadata": {},
     "output_type": "execute_result"
    }
   ],
   "source": [
    "data.poster_path.isnull().sum()"
   ]
  },
  {
   "cell_type": "code",
   "execution_count": 48,
   "metadata": {
    "id": "X45wJ3ZrWjr0"
   },
   "outputs": [],
   "source": [
    "data = data.drop(columns = ['poster_path'])"
   ]
  },
  {
   "cell_type": "markdown",
   "metadata": {
    "id": "FbIbGqHSXER1"
   },
   "source": [
    "# Production Companies"
   ]
  },
  {
   "cell_type": "code",
   "execution_count": 49,
   "metadata": {},
   "outputs": [
    {
     "data": {
      "text/plain": [
       "\"[{'name': 'Pixar Animation Studios', 'id': 3}]\""
      ]
     },
     "execution_count": 49,
     "metadata": {},
     "output_type": "execute_result"
    }
   ],
   "source": [
    "data.production_companies.values[0]"
   ]
  },
  {
   "cell_type": "code",
   "execution_count": 50,
   "metadata": {
    "id": "kZxYuwpFXJqu"
   },
   "outputs": [],
   "source": [
    "index = 0\n",
    "prod1 = []\n",
    "\n",
    "for prod in data.production_companies.values:\n",
    "  prodList = ast.literal_eval(prod)\n",
    "  if len(genList) > index:\n",
    "    prod1.append(prodList[index]['name'])\n",
    "  else:\n",
    "    prod1.append(0)\n",
    "\n",
    "data['Producer1'] = prod1"
   ]
  },
  {
   "cell_type": "code",
   "execution_count": 51,
   "metadata": {
    "id": "7ATIQr3kXhbp"
   },
   "outputs": [],
   "source": [
    "index = 1\n",
    "prod2 = []\n",
    "\n",
    "for prod in data.production_companies.values:\n",
    "  prodList = ast.literal_eval(prod)\n",
    "  if len(genList) > index:\n",
    "    prod2.append(prodList[index]['name'])\n",
    "  else:\n",
    "    prod2.append(0)\n",
    "\n",
    "data['Producer2'] = prod2"
   ]
  },
  {
   "cell_type": "code",
   "execution_count": 52,
   "metadata": {
    "id": "cpruqMtOXp2Y"
   },
   "outputs": [],
   "source": [
    "data = data.drop(columns = ['production_companies','production_countries'])"
   ]
  },
  {
   "cell_type": "markdown",
   "metadata": {
    "id": "DAvENe4oX3H-"
   },
   "source": [
    "# Release Dates"
   ]
  },
  {
   "cell_type": "code",
   "execution_count": 53,
   "metadata": {
    "colab": {
     "base_uri": "https://localhost:8080/",
     "height": 35
    },
    "id": "D1OXgBvdEL6r",
    "outputId": "6b2cb2c3-2f32-47c8-9fb0-c2fbad834fb1"
   },
   "outputs": [
    {
     "data": {
      "text/plain": [
       "'1995-10-30'"
      ]
     },
     "execution_count": 53,
     "metadata": {},
     "output_type": "execute_result"
    }
   ],
   "source": [
    "data.release_date.values[0]"
   ]
  },
  {
   "cell_type": "code",
   "execution_count": 54,
   "metadata": {
    "colab": {
     "base_uri": "https://localhost:8080/"
    },
    "id": "L7fPcWzmYDZq",
    "outputId": "f70cb0ac-b1fe-4bc9-a065-e58be8d614bf"
   },
   "outputs": [
    {
     "data": {
      "text/plain": [
       "58"
      ]
     },
     "execution_count": 54,
     "metadata": {},
     "output_type": "execute_result"
    }
   ],
   "source": [
    "data.release_date.isnull().sum()"
   ]
  },
  {
   "cell_type": "code",
   "execution_count": 55,
   "metadata": {
    "colab": {
     "base_uri": "https://localhost:8080/"
    },
    "id": "swaNG5CnYI_D",
    "outputId": "732c76c4-1cf0-468e-fc82-efa98d15f4c2"
   },
   "outputs": [
    {
     "data": {
      "text/plain": [
       "0        1995-10-30\n",
       "1        1995-12-15\n",
       "2        1995-12-22\n",
       "3        1995-12-22\n",
       "4        1995-02-10\n",
       "            ...    \n",
       "45461           NaN\n",
       "45462    2011-11-17\n",
       "45463    2003-08-01\n",
       "45464    1917-10-21\n",
       "45465    2017-06-09\n",
       "Name: release_date, Length: 45337, dtype: object"
      ]
     },
     "execution_count": 55,
     "metadata": {},
     "output_type": "execute_result"
    }
   ],
   "source": [
    "data.release_date"
   ]
  },
  {
   "cell_type": "code",
   "execution_count": 56,
   "metadata": {
    "id": "sQUOFvY8X5Ck"
   },
   "outputs": [],
   "source": [
    "data = data.dropna(subset = ['release_date'])"
   ]
  },
  {
   "cell_type": "code",
   "execution_count": 57,
   "metadata": {
    "id": "Z-94exABFfJb"
   },
   "outputs": [],
   "source": [
    "# Converting the string into datetime.\n",
    "data.release_date = pd.to_datetime(data.release_date, format='%Y-%m-%d', errors='ignore')"
   ]
  },
  {
   "cell_type": "code",
   "execution_count": 58,
   "metadata": {
    "colab": {
     "base_uri": "https://localhost:8080/"
    },
    "id": "cHKEoCLRFpIe",
    "outputId": "8a9a921b-96b9-4a09-cf8a-ea9ac4c8eb3a"
   },
   "outputs": [
    {
     "data": {
      "text/plain": [
       "0       1995-10-30\n",
       "1       1995-12-15\n",
       "2       1995-12-22\n",
       "3       1995-12-22\n",
       "4       1995-02-10\n",
       "           ...    \n",
       "45460   1991-05-13\n",
       "45462   2011-11-17\n",
       "45463   2003-08-01\n",
       "45464   1917-10-21\n",
       "45465   2017-06-09\n",
       "Name: release_date, Length: 45279, dtype: datetime64[ns]"
      ]
     },
     "execution_count": 58,
     "metadata": {},
     "output_type": "execute_result"
    }
   ],
   "source": [
    "data.release_date"
   ]
  },
  {
   "cell_type": "markdown",
   "metadata": {
    "id": "wAWfZnhfYX6x"
   },
   "source": [
    "# Revenues"
   ]
  },
  {
   "cell_type": "code",
   "execution_count": 59,
   "metadata": {
    "colab": {
     "base_uri": "https://localhost:8080/"
    },
    "id": "NSrU5L-EYZMm",
    "outputId": "734e1ed6-93ce-4af6-9252-b101cba7055e"
   },
   "outputs": [
    {
     "data": {
      "text/plain": [
       "count    4.527900e+04\n",
       "mean     1.095660e+07\n",
       "std      6.151401e+07\n",
       "min      0.000000e+00\n",
       "25%      0.000000e+00\n",
       "50%      0.000000e+00\n",
       "75%      0.000000e+00\n",
       "max      2.068224e+09\n",
       "Name: revenue, dtype: float64"
      ]
     },
     "execution_count": 59,
     "metadata": {},
     "output_type": "execute_result"
    }
   ],
   "source": [
    "data.revenue.describe()"
   ]
  },
  {
   "cell_type": "code",
   "execution_count": 60,
   "metadata": {},
   "outputs": [
    {
     "name": "stdout",
     "output_type": "stream",
     "text": [
      "37898\n"
     ]
    }
   ],
   "source": [
    "count = 0\n",
    "for x in data.revenue.values:\n",
    "    if x == 0:\n",
    "        count = count + 1\n",
    "print(count)"
   ]
  },
  {
   "cell_type": "code",
   "execution_count": 61,
   "metadata": {
    "colab": {
     "base_uri": "https://localhost:8080/"
    },
    "id": "GrRgUn32YdVo",
    "outputId": "e1c5f890-a312-4690-b3da-098745947d47"
   },
   "outputs": [
    {
     "data": {
      "text/plain": [
       "83.69884493915502"
      ]
     },
     "execution_count": 61,
     "metadata": {},
     "output_type": "execute_result"
    }
   ],
   "source": [
    "sum(data.revenue == 0)*100/data.shape[0]"
   ]
  },
  {
   "cell_type": "code",
   "execution_count": 62,
   "metadata": {
    "id": "f7EGsyc5YkOV"
   },
   "outputs": [],
   "source": [
    "data = data.drop(columns = ['revenue'])"
   ]
  },
  {
   "cell_type": "markdown",
   "metadata": {
    "id": "hnuSVjKRYrvV"
   },
   "source": [
    "# RunTime"
   ]
  },
  {
   "cell_type": "code",
   "execution_count": 63,
   "metadata": {
    "colab": {
     "base_uri": "https://localhost:8080/"
    },
    "id": "uqWemUyFYtUk",
    "outputId": "13d3616c-323a-4acf-99c8-d011a605208c"
   },
   "outputs": [
    {
     "data": {
      "text/plain": [
       "count    45034.000000\n",
       "mean        94.199694\n",
       "std         38.327323\n",
       "min          0.000000\n",
       "25%         85.000000\n",
       "50%         95.000000\n",
       "75%        107.000000\n",
       "max       1256.000000\n",
       "Name: runtime, dtype: float64"
      ]
     },
     "execution_count": 63,
     "metadata": {},
     "output_type": "execute_result"
    }
   ],
   "source": [
    "data.runtime.describe()"
   ]
  },
  {
   "cell_type": "code",
   "execution_count": 64,
   "metadata": {
    "colab": {
     "base_uri": "https://localhost:8080/",
     "height": 1000
    },
    "id": "JWHmjMdHY0D2",
    "outputId": "39edbd34-46fa-4146-9f13-9696d743eecb"
   },
   "outputs": [
    {
     "data": {
      "text/html": [
       "<div>\n",
       "<style scoped>\n",
       "    .dataframe tbody tr th:only-of-type {\n",
       "        vertical-align: middle;\n",
       "    }\n",
       "\n",
       "    .dataframe tbody tr th {\n",
       "        vertical-align: top;\n",
       "    }\n",
       "\n",
       "    .dataframe thead th {\n",
       "        text-align: right;\n",
       "    }\n",
       "</style>\n",
       "<table border=\"1\" class=\"dataframe\">\n",
       "  <thead>\n",
       "    <tr style=\"text-align: right;\">\n",
       "      <th></th>\n",
       "      <th>adult</th>\n",
       "      <th>id</th>\n",
       "      <th>original_language</th>\n",
       "      <th>original_title</th>\n",
       "      <th>overview</th>\n",
       "      <th>popularity</th>\n",
       "      <th>release_date</th>\n",
       "      <th>runtime</th>\n",
       "      <th>spoken_languages</th>\n",
       "      <th>status</th>\n",
       "      <th>...</th>\n",
       "      <th>vote_average</th>\n",
       "      <th>vote_count</th>\n",
       "      <th>collectionId</th>\n",
       "      <th>genre1</th>\n",
       "      <th>genre2</th>\n",
       "      <th>genre3</th>\n",
       "      <th>genre4</th>\n",
       "      <th>homePagePresent</th>\n",
       "      <th>Producer1</th>\n",
       "      <th>Producer2</th>\n",
       "    </tr>\n",
       "  </thead>\n",
       "  <tbody>\n",
       "    <tr>\n",
       "      <th>6747</th>\n",
       "      <td>False</td>\n",
       "      <td>42044</td>\n",
       "      <td>en</td>\n",
       "      <td>shoah</td>\n",
       "      <td>claude lanzmann directed this 9 1/2 hour docum...</td>\n",
       "      <td>1.978031</td>\n",
       "      <td>1985-11-01</td>\n",
       "      <td>566.0</td>\n",
       "      <td>[{'iso_639_1': 'en', 'name': 'English'}, {'iso...</td>\n",
       "      <td>Released</td>\n",
       "      <td>...</td>\n",
       "      <td>8.7</td>\n",
       "      <td>36</td>\n",
       "      <td>-1</td>\n",
       "      <td>Documentary</td>\n",
       "      <td>0</td>\n",
       "      <td>0</td>\n",
       "      <td>0</td>\n",
       "      <td>False</td>\n",
       "      <td>0</td>\n",
       "      <td>0</td>\n",
       "    </tr>\n",
       "    <tr>\n",
       "      <th>7415</th>\n",
       "      <td>False</td>\n",
       "      <td>140207</td>\n",
       "      <td>en</td>\n",
       "      <td>tinker tailor soldier spy</td>\n",
       "      <td>in the bleak days of the cold war, espionage v...</td>\n",
       "      <td>1.564586</td>\n",
       "      <td>1979-09-10</td>\n",
       "      <td>320.0</td>\n",
       "      <td>[{'iso_639_1': 'en', 'name': 'English'}]</td>\n",
       "      <td>Released</td>\n",
       "      <td>...</td>\n",
       "      <td>7.6</td>\n",
       "      <td>10</td>\n",
       "      <td>-1</td>\n",
       "      <td>Thriller</td>\n",
       "      <td>Drama</td>\n",
       "      <td>Mystery</td>\n",
       "      <td>0</td>\n",
       "      <td>False</td>\n",
       "      <td>0</td>\n",
       "      <td>0</td>\n",
       "    </tr>\n",
       "    <tr>\n",
       "      <th>7420</th>\n",
       "      <td>False</td>\n",
       "      <td>11659</td>\n",
       "      <td>it</td>\n",
       "      <td>la meglio gioventú</td>\n",
       "      <td>spanning four decades, from the chaotic 1960s ...</td>\n",
       "      <td>6.040001</td>\n",
       "      <td>2003-05-19</td>\n",
       "      <td>366.0</td>\n",
       "      <td>[{'iso_639_1': 'it', 'name': 'Italiano'}]</td>\n",
       "      <td>Released</td>\n",
       "      <td>...</td>\n",
       "      <td>8.0</td>\n",
       "      <td>88</td>\n",
       "      <td>-1</td>\n",
       "      <td>Drama</td>\n",
       "      <td>0</td>\n",
       "      <td>0</td>\n",
       "      <td>0</td>\n",
       "      <td>False</td>\n",
       "      <td>0</td>\n",
       "      <td>0</td>\n",
       "    </tr>\n",
       "    <tr>\n",
       "      <th>7933</th>\n",
       "      <td>False</td>\n",
       "      <td>36627</td>\n",
       "      <td>pl</td>\n",
       "      <td>potop</td>\n",
       "      <td>following with fire and sword', this is an ada...</td>\n",
       "      <td>0.868637</td>\n",
       "      <td>1974-09-02</td>\n",
       "      <td>315.0</td>\n",
       "      <td>[{'iso_639_1': 'pl', 'name': 'Polski'}]</td>\n",
       "      <td>Released</td>\n",
       "      <td>...</td>\n",
       "      <td>7.4</td>\n",
       "      <td>7</td>\n",
       "      <td>138163</td>\n",
       "      <td>History</td>\n",
       "      <td>Adventure</td>\n",
       "      <td>War</td>\n",
       "      <td>0</td>\n",
       "      <td>False</td>\n",
       "      <td>0</td>\n",
       "      <td>0</td>\n",
       "    </tr>\n",
       "    <tr>\n",
       "      <th>8635</th>\n",
       "      <td>False</td>\n",
       "      <td>29266</td>\n",
       "      <td>ru</td>\n",
       "      <td>война и мир</td>\n",
       "      <td>seven-hour epic based on the eponymous book by...</td>\n",
       "      <td>2.604571</td>\n",
       "      <td>1966-03-14</td>\n",
       "      <td>422.0</td>\n",
       "      <td>[{'iso_639_1': 'fr', 'name': 'Français'}, {'is...</td>\n",
       "      <td>Released</td>\n",
       "      <td>...</td>\n",
       "      <td>7.5</td>\n",
       "      <td>16</td>\n",
       "      <td>-1</td>\n",
       "      <td>War</td>\n",
       "      <td>Drama</td>\n",
       "      <td>History</td>\n",
       "      <td>Romance</td>\n",
       "      <td>False</td>\n",
       "      <td>0</td>\n",
       "      <td>0</td>\n",
       "    </tr>\n",
       "    <tr>\n",
       "      <th>...</th>\n",
       "      <td>...</td>\n",
       "      <td>...</td>\n",
       "      <td>...</td>\n",
       "      <td>...</td>\n",
       "      <td>...</td>\n",
       "      <td>...</td>\n",
       "      <td>...</td>\n",
       "      <td>...</td>\n",
       "      <td>...</td>\n",
       "      <td>...</td>\n",
       "      <td>...</td>\n",
       "      <td>...</td>\n",
       "      <td>...</td>\n",
       "      <td>...</td>\n",
       "      <td>...</td>\n",
       "      <td>...</td>\n",
       "      <td>...</td>\n",
       "      <td>...</td>\n",
       "      <td>...</td>\n",
       "      <td>...</td>\n",
       "      <td>...</td>\n",
       "    </tr>\n",
       "    <tr>\n",
       "      <th>44176</th>\n",
       "      <td>False</td>\n",
       "      <td>444623</td>\n",
       "      <td>ru</td>\n",
       "      <td>idiot</td>\n",
       "      <td>tv miniseries of the dostoevsky novel.</td>\n",
       "      <td>0.074146</td>\n",
       "      <td>2003-04-01</td>\n",
       "      <td>550.0</td>\n",
       "      <td>[]</td>\n",
       "      <td>Released</td>\n",
       "      <td>...</td>\n",
       "      <td>7.0</td>\n",
       "      <td>1</td>\n",
       "      <td>-1</td>\n",
       "      <td>TV Movie</td>\n",
       "      <td>0</td>\n",
       "      <td>0</td>\n",
       "      <td>0</td>\n",
       "      <td>False</td>\n",
       "      <td>0</td>\n",
       "      <td>0</td>\n",
       "    </tr>\n",
       "    <tr>\n",
       "      <th>44464</th>\n",
       "      <td>False</td>\n",
       "      <td>197854</td>\n",
       "      <td>ja</td>\n",
       "      <td>強殖装甲ガイバー</td>\n",
       "      <td>sho and his friend tetsurou stumble upon an od...</td>\n",
       "      <td>0.025827</td>\n",
       "      <td>1989-09-25</td>\n",
       "      <td>360.0</td>\n",
       "      <td>[{'iso_639_1': 'ja', 'name': '日本語'}]</td>\n",
       "      <td>Released</td>\n",
       "      <td>...</td>\n",
       "      <td>6.2</td>\n",
       "      <td>5</td>\n",
       "      <td>-1</td>\n",
       "      <td>Science Fiction</td>\n",
       "      <td>Animation</td>\n",
       "      <td>Foreign</td>\n",
       "      <td>Action</td>\n",
       "      <td>False</td>\n",
       "      <td>0</td>\n",
       "      <td>0</td>\n",
       "    </tr>\n",
       "    <tr>\n",
       "      <th>44721</th>\n",
       "      <td>False</td>\n",
       "      <td>458298</td>\n",
       "      <td>en</td>\n",
       "      <td>the keepers</td>\n",
       "      <td>a seven-part docuseries about the unsolved mur...</td>\n",
       "      <td>1.576170</td>\n",
       "      <td>2017-05-19</td>\n",
       "      <td>432.0</td>\n",
       "      <td>[{'iso_639_1': 'en', 'name': 'English'}]</td>\n",
       "      <td>Released</td>\n",
       "      <td>...</td>\n",
       "      <td>7.9</td>\n",
       "      <td>16</td>\n",
       "      <td>-1</td>\n",
       "      <td>Crime</td>\n",
       "      <td>Documentary</td>\n",
       "      <td>Drama</td>\n",
       "      <td>0</td>\n",
       "      <td>True</td>\n",
       "      <td>0</td>\n",
       "      <td>0</td>\n",
       "    </tr>\n",
       "    <tr>\n",
       "      <th>44758</th>\n",
       "      <td>False</td>\n",
       "      <td>128733</td>\n",
       "      <td>en</td>\n",
       "      <td>hollywood</td>\n",
       "      <td>the definitive documentary about the american ...</td>\n",
       "      <td>0.055713</td>\n",
       "      <td>1980-02-09</td>\n",
       "      <td>780.0</td>\n",
       "      <td>[]</td>\n",
       "      <td>Released</td>\n",
       "      <td>...</td>\n",
       "      <td>8.0</td>\n",
       "      <td>1</td>\n",
       "      <td>-1</td>\n",
       "      <td>0</td>\n",
       "      <td>0</td>\n",
       "      <td>0</td>\n",
       "      <td>0</td>\n",
       "      <td>False</td>\n",
       "      <td>0</td>\n",
       "      <td>0</td>\n",
       "    </tr>\n",
       "    <tr>\n",
       "      <th>45462</th>\n",
       "      <td>False</td>\n",
       "      <td>111109</td>\n",
       "      <td>tl</td>\n",
       "      <td>siglo ng pagluluwal</td>\n",
       "      <td>an artist struggles to finish his work while a...</td>\n",
       "      <td>0.178241</td>\n",
       "      <td>2011-11-17</td>\n",
       "      <td>360.0</td>\n",
       "      <td>[{'iso_639_1': 'tl', 'name': ''}]</td>\n",
       "      <td>Released</td>\n",
       "      <td>...</td>\n",
       "      <td>9.0</td>\n",
       "      <td>3</td>\n",
       "      <td>-1</td>\n",
       "      <td>Drama</td>\n",
       "      <td>0</td>\n",
       "      <td>0</td>\n",
       "      <td>0</td>\n",
       "      <td>False</td>\n",
       "      <td>0</td>\n",
       "      <td>0</td>\n",
       "    </tr>\n",
       "  </tbody>\n",
       "</table>\n",
       "<p>107 rows × 22 columns</p>\n",
       "</div>"
      ],
      "text/plain": [
       "       adult      id original_language             original_title  \\\n",
       "6747   False   42044                en                      shoah   \n",
       "7415   False  140207                en  tinker tailor soldier spy   \n",
       "7420   False   11659                it         la meglio gioventú   \n",
       "7933   False   36627                pl                      potop   \n",
       "8635   False   29266                ru                война и мир   \n",
       "...      ...     ...               ...                        ...   \n",
       "44176  False  444623                ru                      idiot   \n",
       "44464  False  197854                ja                   強殖装甲ガイバー   \n",
       "44721  False  458298                en                the keepers   \n",
       "44758  False  128733                en                  hollywood   \n",
       "45462  False  111109                tl        siglo ng pagluluwal   \n",
       "\n",
       "                                                overview  popularity  \\\n",
       "6747   claude lanzmann directed this 9 1/2 hour docum...    1.978031   \n",
       "7415   in the bleak days of the cold war, espionage v...    1.564586   \n",
       "7420   spanning four decades, from the chaotic 1960s ...    6.040001   \n",
       "7933   following with fire and sword', this is an ada...    0.868637   \n",
       "8635   seven-hour epic based on the eponymous book by...    2.604571   \n",
       "...                                                  ...         ...   \n",
       "44176             tv miniseries of the dostoevsky novel.    0.074146   \n",
       "44464  sho and his friend tetsurou stumble upon an od...    0.025827   \n",
       "44721  a seven-part docuseries about the unsolved mur...    1.576170   \n",
       "44758  the definitive documentary about the american ...    0.055713   \n",
       "45462  an artist struggles to finish his work while a...    0.178241   \n",
       "\n",
       "      release_date  runtime  \\\n",
       "6747    1985-11-01    566.0   \n",
       "7415    1979-09-10    320.0   \n",
       "7420    2003-05-19    366.0   \n",
       "7933    1974-09-02    315.0   \n",
       "8635    1966-03-14    422.0   \n",
       "...            ...      ...   \n",
       "44176   2003-04-01    550.0   \n",
       "44464   1989-09-25    360.0   \n",
       "44721   2017-05-19    432.0   \n",
       "44758   1980-02-09    780.0   \n",
       "45462   2011-11-17    360.0   \n",
       "\n",
       "                                        spoken_languages    status  ...  \\\n",
       "6747   [{'iso_639_1': 'en', 'name': 'English'}, {'iso...  Released  ...   \n",
       "7415            [{'iso_639_1': 'en', 'name': 'English'}]  Released  ...   \n",
       "7420           [{'iso_639_1': 'it', 'name': 'Italiano'}]  Released  ...   \n",
       "7933             [{'iso_639_1': 'pl', 'name': 'Polski'}]  Released  ...   \n",
       "8635   [{'iso_639_1': 'fr', 'name': 'Français'}, {'is...  Released  ...   \n",
       "...                                                  ...       ...  ...   \n",
       "44176                                                 []  Released  ...   \n",
       "44464               [{'iso_639_1': 'ja', 'name': '日本語'}]  Released  ...   \n",
       "44721           [{'iso_639_1': 'en', 'name': 'English'}]  Released  ...   \n",
       "44758                                                 []  Released  ...   \n",
       "45462                  [{'iso_639_1': 'tl', 'name': ''}]  Released  ...   \n",
       "\n",
       "      vote_average vote_count  collectionId           genre1       genre2  \\\n",
       "6747           8.7         36            -1      Documentary            0   \n",
       "7415           7.6         10            -1         Thriller        Drama   \n",
       "7420           8.0         88            -1            Drama            0   \n",
       "7933           7.4          7        138163          History    Adventure   \n",
       "8635           7.5         16            -1              War        Drama   \n",
       "...            ...        ...           ...              ...          ...   \n",
       "44176          7.0          1            -1         TV Movie            0   \n",
       "44464          6.2          5            -1  Science Fiction    Animation   \n",
       "44721          7.9         16            -1            Crime  Documentary   \n",
       "44758          8.0          1            -1                0            0   \n",
       "45462          9.0          3            -1            Drama            0   \n",
       "\n",
       "        genre3   genre4 homePagePresent Producer1  Producer2  \n",
       "6747         0        0           False         0          0  \n",
       "7415   Mystery        0           False         0          0  \n",
       "7420         0        0           False         0          0  \n",
       "7933       War        0           False         0          0  \n",
       "8635   History  Romance           False         0          0  \n",
       "...        ...      ...             ...       ...        ...  \n",
       "44176        0        0           False         0          0  \n",
       "44464  Foreign   Action           False         0          0  \n",
       "44721    Drama        0            True         0          0  \n",
       "44758        0        0           False         0          0  \n",
       "45462        0        0           False         0          0  \n",
       "\n",
       "[107 rows x 22 columns]"
      ]
     },
     "execution_count": 64,
     "metadata": {},
     "output_type": "execute_result"
    }
   ],
   "source": [
    "data.loc[data.runtime > 300,:]"
   ]
  },
  {
   "cell_type": "markdown",
   "metadata": {
    "id": "GaQvuTJFZL6H"
   },
   "source": [
    "# Spoken Languages"
   ]
  },
  {
   "cell_type": "code",
   "execution_count": 65,
   "metadata": {
    "colab": {
     "base_uri": "https://localhost:8080/"
    },
    "id": "bn_cjGJPZOmV",
    "outputId": "b5a18575-7c7b-4fe8-cb2c-5a896aad169b"
   },
   "outputs": [
    {
     "data": {
      "text/plain": [
       "0                 [{'iso_639_1': 'en', 'name': 'English'}]\n",
       "1        [{'iso_639_1': 'en', 'name': 'English'}, {'iso...\n",
       "2                 [{'iso_639_1': 'en', 'name': 'English'}]\n",
       "3                 [{'iso_639_1': 'en', 'name': 'English'}]\n",
       "4                 [{'iso_639_1': 'en', 'name': 'English'}]\n",
       "                               ...                        \n",
       "45460             [{'iso_639_1': 'en', 'name': 'English'}]\n",
       "45462                    [{'iso_639_1': 'tl', 'name': ''}]\n",
       "45463             [{'iso_639_1': 'en', 'name': 'English'}]\n",
       "45464                                                   []\n",
       "45465             [{'iso_639_1': 'en', 'name': 'English'}]\n",
       "Name: spoken_languages, Length: 45279, dtype: object"
      ]
     },
     "execution_count": 65,
     "metadata": {},
     "output_type": "execute_result"
    }
   ],
   "source": [
    "data.spoken_languages"
   ]
  },
  {
   "cell_type": "code",
   "execution_count": 66,
   "metadata": {
    "id": "ttbc0XB0Z-lF"
   },
   "outputs": [],
   "source": [
    "totalLanguages = []\n",
    "\n",
    "for prod in data.spoken_languages.values:\n",
    "  prodList = ast.literal_eval(prod)\n",
    "  totalLanguages.append(len(prodList))\n",
    "\n",
    "data['TotalLanguages'] = totalLanguages"
   ]
  },
  {
   "cell_type": "code",
   "execution_count": 67,
   "metadata": {
    "id": "oot-0tpraSvy"
   },
   "outputs": [],
   "source": [
    "data = data.drop(columns = ['spoken_languages'])"
   ]
  },
  {
   "cell_type": "markdown",
   "metadata": {
    "id": "FK5xgH0haW4w"
   },
   "source": [
    "# Status"
   ]
  },
  {
   "cell_type": "code",
   "execution_count": 68,
   "metadata": {},
   "outputs": [
    {
     "data": {
      "text/plain": [
       "79"
      ]
     },
     "execution_count": 68,
     "metadata": {},
     "output_type": "execute_result"
    }
   ],
   "source": [
    "data.status.isnull().sum()"
   ]
  },
  {
   "cell_type": "code",
   "execution_count": 69,
   "metadata": {},
   "outputs": [],
   "source": [
    "data = data.dropna(subset = ['status'])"
   ]
  },
  {
   "cell_type": "code",
   "execution_count": 70,
   "metadata": {
    "colab": {
     "base_uri": "https://localhost:8080/"
    },
    "id": "BAV1FpViaaTt",
    "outputId": "1599290b-9bfd-43c7-c085-7b63dd7541d6"
   },
   "outputs": [
    {
     "data": {
      "text/plain": [
       "Released           44843\n",
       "Rumored              227\n",
       "Post Production       97\n",
       "In Production         19\n",
       "Planned               13\n",
       "Canceled               1\n",
       "Name: status, dtype: int64"
      ]
     },
     "execution_count": 70,
     "metadata": {},
     "output_type": "execute_result"
    }
   ],
   "source": [
    "data.status.value_counts()"
   ]
  },
  {
   "cell_type": "code",
   "execution_count": 71,
   "metadata": {
    "colab": {
     "base_uri": "https://localhost:8080/"
    },
    "id": "qAIX6zVkt_nN",
    "outputId": "a8c353fd-9a98-4fd3-cb6e-54759efb4974"
   },
   "outputs": [
    {
     "data": {
      "text/plain": [
       "Index(['adult', 'id', 'original_language', 'original_title', 'overview',\n",
       "       'popularity', 'release_date', 'runtime', 'status', 'tagline', 'video',\n",
       "       'vote_average', 'vote_count', 'collectionId', 'genre1', 'genre2',\n",
       "       'genre3', 'genre4', 'homePagePresent', 'Producer1', 'Producer2',\n",
       "       'TotalLanguages'],\n",
       "      dtype='object')"
      ]
     },
     "execution_count": 71,
     "metadata": {},
     "output_type": "execute_result"
    }
   ],
   "source": [
    "data.columns"
   ]
  },
  {
   "cell_type": "markdown",
   "metadata": {
    "id": "Rp1Pwr6Bam30"
   },
   "source": [
    "# Others"
   ]
  },
  {
   "cell_type": "code",
   "execution_count": 72,
   "metadata": {
    "colab": {
     "base_uri": "https://localhost:8080/"
    },
    "id": "kBvy4JQXa4q2",
    "outputId": "cb5d921c-0273-411b-f959-b98ff10200e9"
   },
   "outputs": [
    {
     "data": {
      "text/plain": [
       "24843"
      ]
     },
     "execution_count": 72,
     "metadata": {},
     "output_type": "execute_result"
    }
   ],
   "source": [
    "data.tagline.isnull().sum()"
   ]
  },
  {
   "cell_type": "code",
   "execution_count": 73,
   "metadata": {
    "colab": {
     "base_uri": "https://localhost:8080/"
    },
    "id": "7E918Kj_bRgE",
    "outputId": "0a6b634d-4e91-4f54-8c42-eba4e2795c43"
   },
   "outputs": [
    {
     "data": {
      "text/plain": [
       "False    45112\n",
       "True        88\n",
       "Name: video, dtype: int64"
      ]
     },
     "execution_count": 73,
     "metadata": {},
     "output_type": "execute_result"
    }
   ],
   "source": [
    "data.video.value_counts()"
   ]
  },
  {
   "cell_type": "code",
   "execution_count": 74,
   "metadata": {
    "id": "AqhO5aqEkrBw"
   },
   "outputs": [],
   "source": [
    "data = data.drop(columns = ['tagline','video'])"
   ]
  },
  {
   "cell_type": "markdown",
   "metadata": {
    "id": "StnU3DSsboW2"
   },
   "source": [
    "# Final Data"
   ]
  },
  {
   "cell_type": "code",
   "execution_count": 75,
   "metadata": {
    "colab": {
     "base_uri": "https://localhost:8080/",
     "height": 915
    },
    "id": "eSJKdaJ5bp-D",
    "outputId": "14e40c7f-66fb-4087-eb44-b5a7559a765b"
   },
   "outputs": [
    {
     "data": {
      "text/html": [
       "<div>\n",
       "<style scoped>\n",
       "    .dataframe tbody tr th:only-of-type {\n",
       "        vertical-align: middle;\n",
       "    }\n",
       "\n",
       "    .dataframe tbody tr th {\n",
       "        vertical-align: top;\n",
       "    }\n",
       "\n",
       "    .dataframe thead th {\n",
       "        text-align: right;\n",
       "    }\n",
       "</style>\n",
       "<table border=\"1\" class=\"dataframe\">\n",
       "  <thead>\n",
       "    <tr style=\"text-align: right;\">\n",
       "      <th></th>\n",
       "      <th>adult</th>\n",
       "      <th>id</th>\n",
       "      <th>original_language</th>\n",
       "      <th>original_title</th>\n",
       "      <th>overview</th>\n",
       "      <th>popularity</th>\n",
       "      <th>release_date</th>\n",
       "      <th>runtime</th>\n",
       "      <th>status</th>\n",
       "      <th>vote_average</th>\n",
       "      <th>vote_count</th>\n",
       "      <th>collectionId</th>\n",
       "      <th>genre1</th>\n",
       "      <th>genre2</th>\n",
       "      <th>genre3</th>\n",
       "      <th>genre4</th>\n",
       "      <th>homePagePresent</th>\n",
       "      <th>Producer1</th>\n",
       "      <th>Producer2</th>\n",
       "      <th>TotalLanguages</th>\n",
       "    </tr>\n",
       "  </thead>\n",
       "  <tbody>\n",
       "    <tr>\n",
       "      <th>0</th>\n",
       "      <td>False</td>\n",
       "      <td>862</td>\n",
       "      <td>en</td>\n",
       "      <td>toy story</td>\n",
       "      <td>led by woody, andy's toys live happily in his ...</td>\n",
       "      <td>21.946943</td>\n",
       "      <td>1995-10-30</td>\n",
       "      <td>81.0</td>\n",
       "      <td>Released</td>\n",
       "      <td>7.7</td>\n",
       "      <td>5415</td>\n",
       "      <td>10194</td>\n",
       "      <td>Animation</td>\n",
       "      <td>Comedy</td>\n",
       "      <td>Family</td>\n",
       "      <td>0</td>\n",
       "      <td>True</td>\n",
       "      <td>0</td>\n",
       "      <td>0</td>\n",
       "      <td>1</td>\n",
       "    </tr>\n",
       "    <tr>\n",
       "      <th>1</th>\n",
       "      <td>False</td>\n",
       "      <td>8844</td>\n",
       "      <td>en</td>\n",
       "      <td>jumanji</td>\n",
       "      <td>when siblings judy and peter discover an encha...</td>\n",
       "      <td>17.015539</td>\n",
       "      <td>1995-12-15</td>\n",
       "      <td>104.0</td>\n",
       "      <td>Released</td>\n",
       "      <td>6.9</td>\n",
       "      <td>2413</td>\n",
       "      <td>-1</td>\n",
       "      <td>Adventure</td>\n",
       "      <td>Fantasy</td>\n",
       "      <td>Family</td>\n",
       "      <td>0</td>\n",
       "      <td>False</td>\n",
       "      <td>0</td>\n",
       "      <td>0</td>\n",
       "      <td>2</td>\n",
       "    </tr>\n",
       "    <tr>\n",
       "      <th>2</th>\n",
       "      <td>False</td>\n",
       "      <td>15602</td>\n",
       "      <td>en</td>\n",
       "      <td>grumpier old men</td>\n",
       "      <td>a family wedding reignites the ancient feud be...</td>\n",
       "      <td>11.712900</td>\n",
       "      <td>1995-12-22</td>\n",
       "      <td>101.0</td>\n",
       "      <td>Released</td>\n",
       "      <td>6.5</td>\n",
       "      <td>92</td>\n",
       "      <td>119050</td>\n",
       "      <td>Romance</td>\n",
       "      <td>Comedy</td>\n",
       "      <td>0</td>\n",
       "      <td>0</td>\n",
       "      <td>False</td>\n",
       "      <td>0</td>\n",
       "      <td>0</td>\n",
       "      <td>1</td>\n",
       "    </tr>\n",
       "    <tr>\n",
       "      <th>3</th>\n",
       "      <td>False</td>\n",
       "      <td>31357</td>\n",
       "      <td>en</td>\n",
       "      <td>waiting to exhale</td>\n",
       "      <td>cheated on, mistreated and stepped on, the wom...</td>\n",
       "      <td>3.859495</td>\n",
       "      <td>1995-12-22</td>\n",
       "      <td>127.0</td>\n",
       "      <td>Released</td>\n",
       "      <td>6.1</td>\n",
       "      <td>34</td>\n",
       "      <td>-1</td>\n",
       "      <td>Comedy</td>\n",
       "      <td>Drama</td>\n",
       "      <td>Romance</td>\n",
       "      <td>0</td>\n",
       "      <td>False</td>\n",
       "      <td>0</td>\n",
       "      <td>0</td>\n",
       "      <td>1</td>\n",
       "    </tr>\n",
       "    <tr>\n",
       "      <th>4</th>\n",
       "      <td>False</td>\n",
       "      <td>11862</td>\n",
       "      <td>en</td>\n",
       "      <td>father of the bride part ii</td>\n",
       "      <td>just when george banks has recovered from his ...</td>\n",
       "      <td>8.387519</td>\n",
       "      <td>1995-02-10</td>\n",
       "      <td>106.0</td>\n",
       "      <td>Released</td>\n",
       "      <td>5.7</td>\n",
       "      <td>173</td>\n",
       "      <td>96871</td>\n",
       "      <td>Comedy</td>\n",
       "      <td>0</td>\n",
       "      <td>0</td>\n",
       "      <td>0</td>\n",
       "      <td>False</td>\n",
       "      <td>0</td>\n",
       "      <td>0</td>\n",
       "      <td>1</td>\n",
       "    </tr>\n",
       "    <tr>\n",
       "      <th>...</th>\n",
       "      <td>...</td>\n",
       "      <td>...</td>\n",
       "      <td>...</td>\n",
       "      <td>...</td>\n",
       "      <td>...</td>\n",
       "      <td>...</td>\n",
       "      <td>...</td>\n",
       "      <td>...</td>\n",
       "      <td>...</td>\n",
       "      <td>...</td>\n",
       "      <td>...</td>\n",
       "      <td>...</td>\n",
       "      <td>...</td>\n",
       "      <td>...</td>\n",
       "      <td>...</td>\n",
       "      <td>...</td>\n",
       "      <td>...</td>\n",
       "      <td>...</td>\n",
       "      <td>...</td>\n",
       "      <td>...</td>\n",
       "    </tr>\n",
       "    <tr>\n",
       "      <th>45460</th>\n",
       "      <td>False</td>\n",
       "      <td>30840</td>\n",
       "      <td>en</td>\n",
       "      <td>robin hood</td>\n",
       "      <td>yet another version of the classic epic, with ...</td>\n",
       "      <td>5.683753</td>\n",
       "      <td>1991-05-13</td>\n",
       "      <td>104.0</td>\n",
       "      <td>Released</td>\n",
       "      <td>5.7</td>\n",
       "      <td>26</td>\n",
       "      <td>-1</td>\n",
       "      <td>Drama</td>\n",
       "      <td>Action</td>\n",
       "      <td>Romance</td>\n",
       "      <td>0</td>\n",
       "      <td>False</td>\n",
       "      <td>0</td>\n",
       "      <td>0</td>\n",
       "      <td>1</td>\n",
       "    </tr>\n",
       "    <tr>\n",
       "      <th>45462</th>\n",
       "      <td>False</td>\n",
       "      <td>111109</td>\n",
       "      <td>tl</td>\n",
       "      <td>siglo ng pagluluwal</td>\n",
       "      <td>an artist struggles to finish his work while a...</td>\n",
       "      <td>0.178241</td>\n",
       "      <td>2011-11-17</td>\n",
       "      <td>360.0</td>\n",
       "      <td>Released</td>\n",
       "      <td>9.0</td>\n",
       "      <td>3</td>\n",
       "      <td>-1</td>\n",
       "      <td>Drama</td>\n",
       "      <td>0</td>\n",
       "      <td>0</td>\n",
       "      <td>0</td>\n",
       "      <td>False</td>\n",
       "      <td>0</td>\n",
       "      <td>0</td>\n",
       "      <td>1</td>\n",
       "    </tr>\n",
       "    <tr>\n",
       "      <th>45463</th>\n",
       "      <td>False</td>\n",
       "      <td>67758</td>\n",
       "      <td>en</td>\n",
       "      <td>betrayal</td>\n",
       "      <td>when one of her hits goes wrong, a professiona...</td>\n",
       "      <td>0.903007</td>\n",
       "      <td>2003-08-01</td>\n",
       "      <td>90.0</td>\n",
       "      <td>Released</td>\n",
       "      <td>3.8</td>\n",
       "      <td>6</td>\n",
       "      <td>-1</td>\n",
       "      <td>Action</td>\n",
       "      <td>Drama</td>\n",
       "      <td>Thriller</td>\n",
       "      <td>0</td>\n",
       "      <td>False</td>\n",
       "      <td>0</td>\n",
       "      <td>0</td>\n",
       "      <td>1</td>\n",
       "    </tr>\n",
       "    <tr>\n",
       "      <th>45464</th>\n",
       "      <td>False</td>\n",
       "      <td>227506</td>\n",
       "      <td>en</td>\n",
       "      <td>satana likuyushchiy</td>\n",
       "      <td>in a small town live two brothers, one a minis...</td>\n",
       "      <td>0.003503</td>\n",
       "      <td>1917-10-21</td>\n",
       "      <td>87.0</td>\n",
       "      <td>Released</td>\n",
       "      <td>0.0</td>\n",
       "      <td>0</td>\n",
       "      <td>-1</td>\n",
       "      <td>0</td>\n",
       "      <td>0</td>\n",
       "      <td>0</td>\n",
       "      <td>0</td>\n",
       "      <td>False</td>\n",
       "      <td>0</td>\n",
       "      <td>0</td>\n",
       "      <td>0</td>\n",
       "    </tr>\n",
       "    <tr>\n",
       "      <th>45465</th>\n",
       "      <td>False</td>\n",
       "      <td>461257</td>\n",
       "      <td>en</td>\n",
       "      <td>queerama</td>\n",
       "      <td>50 years after decriminalisation of homosexual...</td>\n",
       "      <td>0.163015</td>\n",
       "      <td>2017-06-09</td>\n",
       "      <td>75.0</td>\n",
       "      <td>Released</td>\n",
       "      <td>0.0</td>\n",
       "      <td>0</td>\n",
       "      <td>-1</td>\n",
       "      <td>0</td>\n",
       "      <td>0</td>\n",
       "      <td>0</td>\n",
       "      <td>0</td>\n",
       "      <td>False</td>\n",
       "      <td>0</td>\n",
       "      <td>0</td>\n",
       "      <td>1</td>\n",
       "    </tr>\n",
       "  </tbody>\n",
       "</table>\n",
       "<p>45200 rows × 20 columns</p>\n",
       "</div>"
      ],
      "text/plain": [
       "       adult      id original_language               original_title  \\\n",
       "0      False     862                en                    toy story   \n",
       "1      False    8844                en                      jumanji   \n",
       "2      False   15602                en             grumpier old men   \n",
       "3      False   31357                en            waiting to exhale   \n",
       "4      False   11862                en  father of the bride part ii   \n",
       "...      ...     ...               ...                          ...   \n",
       "45460  False   30840                en                   robin hood   \n",
       "45462  False  111109                tl          siglo ng pagluluwal   \n",
       "45463  False   67758                en                     betrayal   \n",
       "45464  False  227506                en          satana likuyushchiy   \n",
       "45465  False  461257                en                     queerama   \n",
       "\n",
       "                                                overview  popularity  \\\n",
       "0      led by woody, andy's toys live happily in his ...   21.946943   \n",
       "1      when siblings judy and peter discover an encha...   17.015539   \n",
       "2      a family wedding reignites the ancient feud be...   11.712900   \n",
       "3      cheated on, mistreated and stepped on, the wom...    3.859495   \n",
       "4      just when george banks has recovered from his ...    8.387519   \n",
       "...                                                  ...         ...   \n",
       "45460  yet another version of the classic epic, with ...    5.683753   \n",
       "45462  an artist struggles to finish his work while a...    0.178241   \n",
       "45463  when one of her hits goes wrong, a professiona...    0.903007   \n",
       "45464  in a small town live two brothers, one a minis...    0.003503   \n",
       "45465  50 years after decriminalisation of homosexual...    0.163015   \n",
       "\n",
       "      release_date  runtime    status  vote_average  vote_count  collectionId  \\\n",
       "0       1995-10-30     81.0  Released           7.7        5415         10194   \n",
       "1       1995-12-15    104.0  Released           6.9        2413            -1   \n",
       "2       1995-12-22    101.0  Released           6.5          92        119050   \n",
       "3       1995-12-22    127.0  Released           6.1          34            -1   \n",
       "4       1995-02-10    106.0  Released           5.7         173         96871   \n",
       "...            ...      ...       ...           ...         ...           ...   \n",
       "45460   1991-05-13    104.0  Released           5.7          26            -1   \n",
       "45462   2011-11-17    360.0  Released           9.0           3            -1   \n",
       "45463   2003-08-01     90.0  Released           3.8           6            -1   \n",
       "45464   1917-10-21     87.0  Released           0.0           0            -1   \n",
       "45465   2017-06-09     75.0  Released           0.0           0            -1   \n",
       "\n",
       "          genre1   genre2    genre3 genre4  homePagePresent  Producer1  \\\n",
       "0      Animation   Comedy    Family      0             True          0   \n",
       "1      Adventure  Fantasy    Family      0            False          0   \n",
       "2        Romance   Comedy         0      0            False          0   \n",
       "3         Comedy    Drama   Romance      0            False          0   \n",
       "4         Comedy        0         0      0            False          0   \n",
       "...          ...      ...       ...    ...              ...        ...   \n",
       "45460      Drama   Action   Romance      0            False          0   \n",
       "45462      Drama        0         0      0            False          0   \n",
       "45463     Action    Drama  Thriller      0            False          0   \n",
       "45464          0        0         0      0            False          0   \n",
       "45465          0        0         0      0            False          0   \n",
       "\n",
       "       Producer2  TotalLanguages  \n",
       "0              0               1  \n",
       "1              0               2  \n",
       "2              0               1  \n",
       "3              0               1  \n",
       "4              0               1  \n",
       "...          ...             ...  \n",
       "45460          0               1  \n",
       "45462          0               1  \n",
       "45463          0               1  \n",
       "45464          0               0  \n",
       "45465          0               1  \n",
       "\n",
       "[45200 rows x 20 columns]"
      ]
     },
     "execution_count": 75,
     "metadata": {},
     "output_type": "execute_result"
    }
   ],
   "source": [
    "data"
   ]
  },
  {
   "cell_type": "code",
   "execution_count": 76,
   "metadata": {
    "colab": {
     "base_uri": "https://localhost:8080/"
    },
    "id": "1-nQ8sbnb2DX",
    "outputId": "d89bd1e1-6370-4d22-b5dd-570174451e71"
   },
   "outputs": [
    {
     "data": {
      "text/plain": [
       "(45200, 20)"
      ]
     },
     "execution_count": 76,
     "metadata": {},
     "output_type": "execute_result"
    }
   ],
   "source": [
    "data.shape"
   ]
  }
 ],
 "metadata": {
  "colab": {
   "collapsed_sections": [],
   "name": "DataCleaning.ipynb",
   "provenance": []
  },
  "kernelspec": {
   "display_name": "Python 3",
   "language": "python",
   "name": "python3"
  },
  "language_info": {
   "codemirror_mode": {
    "name": "ipython",
    "version": 3
   },
   "file_extension": ".py",
   "mimetype": "text/x-python",
   "name": "python",
   "nbconvert_exporter": "python",
   "pygments_lexer": "ipython3",
   "version": "3.9.0"
  }
 },
 "nbformat": 4,
 "nbformat_minor": 1
}
